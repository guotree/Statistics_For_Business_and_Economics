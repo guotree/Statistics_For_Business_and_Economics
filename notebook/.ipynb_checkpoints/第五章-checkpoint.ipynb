{
 "cells": [
  {
   "cell_type": "code",
   "execution_count": 1,
   "id": "c471d68f-bfd2-42cf-93e1-26a35a9b9dfa",
   "metadata": {},
   "outputs": [],
   "source": [
    "import numpy as np\n",
    "import pandas as pd\n",
    "from scipy import stats\n",
    "\n",
    "import matplotlib.pyplot as plt\n",
    "import seaborn as sns\n",
    "import plotly.express as px\n",
    "\n",
    "plt.rcParams['font.sans-serif']=['SimHei']"
   ]
  },
  {
   "cell_type": "markdown",
   "id": "16a550d7-cfae-4645-a79e-99f9b09e3992",
   "metadata": {},
   "source": [
    "## 5.1. 随机变量"
   ]
  },
  {
   "cell_type": "markdown",
   "id": "b8fb2864-701b-4fe8-831a-91979c39b7ff",
   "metadata": {},
   "source": [
    "### 2"
   ]
  },
  {
   "cell_type": "markdown",
   "id": "3fb06147-b5b1-4b40-a46b-5043235f268c",
   "metadata": {},
   "source": [
    "a. x=组装产品所需时间\n",
    "\n",
    "b. 正实数\n",
    "\n",
    "c. 连续型随机变量"
   ]
  },
  {
   "cell_type": "markdown",
   "id": "8723f1ba-fe9f-459d-8619-87819cb0197f",
   "metadata": {},
   "source": [
    "### 4"
   ]
  },
  {
   "cell_type": "markdown",
   "id": "6ab67919-2a31-405b-9f45-8454632d19d6",
   "metadata": {},
   "source": [
    "随机变量取值可能为$\\{0,1,2,3,4,5,6,7,8,9\\}$"
   ]
  },
  {
   "cell_type": "markdown",
   "id": "775adfd2-0467-46c5-bd3c-bb967cc8c447",
   "metadata": {},
   "source": [
    "### 6"
   ]
  },
  {
   "cell_type": "markdown",
   "id": "e9ebe724-fecf-4803-b62d-d3fb67d21002",
   "metadata": {},
   "source": [
    "a. 离散型\n",
    "\n",
    "b. 离散型\n",
    "\n",
    "c. 离散型\n",
    "\n",
    "d. 连续型\n",
    "\n",
    "e. 连续型"
   ]
  },
  {
   "cell_type": "markdown",
   "id": "af52506f-09a8-49fe-bbaa-2d099546b6a6",
   "metadata": {},
   "source": [
    "## 5.2. 离散型概率分布"
   ]
  },
  {
   "cell_type": "markdown",
   "id": "258d3298-51dd-4262-839f-d75ba79ca576",
   "metadata": {},
   "source": [
    "### 8"
   ]
  },
  {
   "cell_type": "code",
   "execution_count": 25,
   "id": "3cafe01f-3cb7-4d4c-b478-9e16619f0816",
   "metadata": {},
   "outputs": [
    {
     "name": "stdout",
     "output_type": "stream",
     "text": [
      "3天 的频率为: 0.1\n",
      "5天 的频率为: 0.2\n",
      "8天 的频率为: 0.3\n",
      "4天 的频率为: 0.4\n"
     ]
    },
    {
     "data": {
      "image/png": "[encoded data removed]",
      "text/plain": [
       "<Figure size 432x360 with 1 Axes>"
      ]
     },
     "metadata": {
      "needs_background": "light"
     },
     "output_type": "display_data"
    }
   ],
   "source": [
    "c = np.array([1,2,3,4])\n",
    "x = np.array([3,5,8,4])\n",
    "for i in range(len(c)):\n",
    "    print(\"{}天 的频率为: {}\".format(x[i], c[i]/sum(c)))\n",
    "    \n",
    "fig, ax = plt.subplots(figsize=(6,5))\n",
    "ax.bar(np.arange(0,4,dtype=int),c/np.sum(c))\n",
    "ax.set_title(\"概率分布图\")\n",
    "plt.show()"
   ]
  },
  {
   "cell_type": "markdown",
   "id": "a82143c2-0c5d-4c19-8df7-14c8b5e59da8",
   "metadata": {},
   "source": [
    "$f(x)\\geq 0\\\\ \\sum f(x)=1$"
   ]
  },
  {
   "cell_type": "markdown",
   "id": "33392b24-2249-41f5-be41-e09cc8b04f73",
   "metadata": {},
   "source": [
    "### 10"
   ]
  },
  {
   "cell_type": "code",
   "execution_count": 19,
   "id": "3daa2b14-bf0f-4f55-ac4d-130e5a0f159f",
   "metadata": {},
   "outputs": [
    {
     "data": {
      "image/png": "[encoded data removed]",
      "text/plain": [
       "<Figure size 864x360 with 2 Axes>"
      ]
     },
     "metadata": {
      "needs_background": "light"
     },
     "output_type": "display_data"
    },
    {
     "name": "stdout",
     "output_type": "stream",
     "text": [
      "高级经理满意度为4或5的概率是: 0.83\n",
      "中级经理非常满意的概率是: 0.28\n",
      "整体上高级经理的满意度高于中级经理\n"
     ]
    }
   ],
   "source": [
    "a = np.array([1,2,3,4,5])\n",
    "b = np.array([5,9,3,42,41])/100\n",
    "c = np.array([4,10,12,46,28])/100\n",
    "data = pd.DataFrame({\"工作满意度得分\":a,\"高级经理\":b,\"中级经理\":c})\n",
    "\n",
    "fig, ax = plt.subplots(1,2,figsize=(12,5))\n",
    "ax[0].bar(data[\"工作满意度得分\"],data[\"高级经理\"])\n",
    "ax[0].set_title(\"高级经理工作满意度得分的分布\")\n",
    "ax[1].bar(data[\"工作满意度得分\"],data[\"中级经理\"])\n",
    "ax[1].set_title(\"中级经理工作满意度得分的分布\")\n",
    "plt.show()\n",
    "\n",
    "print(\"高级经理满意度为4或5的概率是: {}\".format(data[(data[\"工作满意度得分\"]==4) | (data[\"工作满意度得分\"]==5)][\"高级经理\"].sum()))\n",
    "print(\"中级经理非常满意的概率是: {}\".format(data[data[\"工作满意度得分\"]==5][\"中级经理\"].sum()))\n",
    "print(\"整体上高级经理的满意度高于中级经理\")"
   ]
  },
  {
   "cell_type": "markdown",
   "id": "c4e5533d-856c-4ba0-a047-6166a83cfb6c",
   "metadata": {},
   "source": [
    "### 12"
   ]
  },
  {
   "cell_type": "code",
   "execution_count": 32,
   "id": "4da661b1-168d-41c6-b159-0ef9e5d8fd73",
   "metadata": {},
   "outputs": [
    {
     "name": "stdout",
     "output_type": "stream",
     "text": [
      "这是一个概率分布\n",
      "新用户超过400000户的概率: 0.15\n",
      "新用户少于200000户的概率: 0.55\n"
     ]
    }
   ],
   "source": [
    "x = np.array([100000,200000,300000,400000,500000,600000])\n",
    "f = np.array([0.1,0.2,0.25,0.3,0.1,0.05])\n",
    "data = pd.DataFrame({'x':x,'f':f})\n",
    "\n",
    "if np.sum(data.f)==1.0 and (data.f>0).all():\n",
    "    print(\"这是一个概率分布\")\n",
    "else:\n",
    "    print(\"这不是一个概率分布\")\n",
    "    \n",
    "print(\"新用户超过400000户的概率: {:.2f}\".format(data[data.x>400000]['f'].sum()))\n",
    "print(\"新用户少于200000户的概率: {:.2f}\".format(data[data.x<400000]['f'].sum()))"
   ]
  },
  {
   "cell_type": "markdown",
   "id": "09322000-7931-47d3-a860-587a001739fc",
   "metadata": {},
   "source": [
    "### 14"
   ]
  },
  {
   "cell_type": "code",
   "execution_count": 60,
   "id": "4f9844d0-81a7-481a-9217-fdcecedc16c0",
   "metadata": {},
   "outputs": [
    {
     "name": "stdout",
     "output_type": "stream",
     "text": [
      "f(200)=[0.05]\n",
      "MRA盈利的概率是: 0.70\n",
      "MRA至少盈利100000美元的概率是: 0.15\n"
     ]
    }
   ],
   "source": [
    "data = pd.DataFrame({'x':np.array([-100,0,50,100,150,200]),\n",
    "                     'f':np.array([0.1,0.2,0.3,0.25,0.1,0.05])})\n",
    "print(\"f(200)={}\".format(data[data.x==200]['f'].values))\n",
    "print(\"MRA盈利的概率是: {:.2f}\".format(data.f[data.x>0].sum()))\n",
    "print(\"MRA至少盈利100000美元的概率是: {:.2f}\".format(data.f[data.x>100].sum()))"
   ]
  },
  {
   "cell_type": "markdown",
   "id": "b9633429-dfbd-4849-9686-987526da5fef",
   "metadata": {},
   "source": [
    "## 5.3. 数学期望与方差"
   ]
  },
  {
   "cell_type": "markdown",
   "id": "6adfe7f3-ff4f-4100-a503-cd3f3044a17c",
   "metadata": {},
   "source": [
    "### 16"
   ]
  },
  {
   "cell_type": "code",
   "execution_count": 12,
   "id": "7643cc69-d573-4aec-b221-cb70a59d095c",
   "metadata": {},
   "outputs": [
    {
     "name": "stdout",
     "output_type": "stream",
     "text": [
      "期望是: 5.20\n",
      "标准差是: 2.14\n"
     ]
    }
   ],
   "source": [
    "dist = stats.rv_discrete(name='dist1',values=(np.array([2,4,7,8]), np.array([0.2,0.3,0.4,0.1])))\n",
    "mean = dist.expect()\n",
    "std = dist.std()\n",
    "print(\"期望是: {:.2f}\\n标准差是: {:.2f}\".format(mean, std))"
   ]
  },
  {
   "cell_type": "markdown",
   "id": "ab97db4c-7700-4f52-b14e-d5f120c71b5c",
   "metadata": {},
   "source": [
    "### 18"
   ]
  },
  {
   "cell_type": "code",
   "execution_count": 29,
   "id": "5b283d99-bf9b-4e62-9ce1-1488ba3c7b3e",
   "metadata": {},
   "outputs": [
    {
     "name": "stdout",
     "output_type": "stream",
     "text": [
      "x的期望是: 1.18\tx的标准差是: 1.02\n",
      "y的期望是: 1.22\ty的标准差是: 1.10\n"
     ]
    }
   ],
   "source": [
    "data = pd.DataFrame({'x':np.array([0,1,2,3,4]),\n",
    "                     'fx':np.array([439,1100,249,98,120]),\n",
    "                     'fy':np.array([394,760,221,92,111])})\n",
    "dist = stats.rv_discrete(name='dist',values=(data.x,data.fx/np.sum(data.fx)))\n",
    "mean, std = dist.expect(), dist.std()\n",
    "print(\"x的期望是: {:.2f}\\tx的标准差是: {:.2f}\".format(mean, std))\n",
    "dist = stats.rv_discrete(name='dist',values=(data.x,data.fy/np.sum(data.fy)))\n",
    "mean, std = dist.expect(), dist.std()\n",
    "print(\"y的期望是: {:.2f}\\ty的标准差是: {:.2f}\".format(mean, std))"
   ]
  },
  {
   "cell_type": "markdown",
   "id": "c41118a4-59a8-4c91-9e5b-73aed3170b7f",
   "metadata": {},
   "source": [
    "### 20"
   ]
  },
  {
   "cell_type": "code",
   "execution_count": 27,
   "id": "afc9812a-7809-462b-881a-f22157ff2c93",
   "metadata": {},
   "outputs": [
    {
     "name": "stdout",
     "output_type": "stream",
     "text": [
      "期望是: 430.00\t标准差是: 1508.34\t止损金额是: 430.00\n",
      "期望是: 430.00\t标准差是: 1508.34\n",
      "因为标准差太大，风险很高难以承受，需要付出一定的成本对冲风险\n"
     ]
    }
   ],
   "source": [
    "data = pd.DataFrame({'x':np.array([0,500,1000,3000,5000,8000,10000]),\n",
    "                     'p':np.array([0.85,0.04,0.04,0.03,0.02,0.01,0.01])})\n",
    "dist = stats.rv_discrete(name='dist', values=(data.x,data.p))\n",
    "mean, std = dist.expect(), dist.std()\n",
    "print(\"期望是: {:.2f}\\t标准差是: {:.2f}\".format(mean, std),end='\\t')\n",
    "print(\"止损金额是: {:.2f}\".format(mean))\n",
    "\n",
    "dist = stats.rv_discrete(name='dist', values=(data.x-520,data.p))\n",
    "\n",
    "print(\"期望是: {:.2f}\\t标准差是: {:.2f}\".format(mean, std))\n",
    "print(\"因为标准差太大，风险很高难以承受，需要付出一定的成本对冲风险\")"
   ]
  },
  {
   "cell_type": "markdown",
   "id": "3845019c-deb6-465e-886f-3795c810503e",
   "metadata": {},
   "source": [
    "### 22"
   ]
  },
  {
   "cell_type": "code",
   "execution_count": 35,
   "id": "bbfb5576-b1b5-4c06-8c7e-6c2b9c4a77e1",
   "metadata": {},
   "outputs": [
    {
     "name": "stdout",
     "output_type": "stream",
     "text": [
      "期望是: 445.00\t标准差是: 97.34\n",
      "亏损: 1250.0元\n"
     ]
    }
   ],
   "source": [
    "data = pd.DataFrame({'x':np.array([300,400,500,600]),\n",
    "                     'p':np.array([0.2,0.3,0.35,0.15])})\n",
    "dist = stats.rv_discrete(name='dist', values=(data.x,data.p))\n",
    "mean, std = dist.expect(), dist.std()\n",
    "print(\"期望是: {:.2f}\\t标准差是: {:.2f}\".format(mean, std))\n",
    "\n",
    "delta = 70*300-50*mean\n",
    "if delta<0:\n",
    "    print(\"亏损: {}元\".format(abs(delta)))\n",
    "else:\n",
    "    print(\"盈利: {}元\".format(delta))"
   ]
  },
  {
   "cell_type": "markdown",
   "id": "9686fccd-b091-45b4-8690-1e997e3d14c3",
   "metadata": {},
   "source": [
    "### 24"
   ]
  },
  {
   "cell_type": "code",
   "execution_count": 39,
   "id": "d44e68c1-2953-48f0-bfa3-8251d44a5bfe",
   "metadata": {},
   "outputs": [
    {
     "name": "stdout",
     "output_type": "stream",
     "text": [
      "中型扩建工程利润的期望: 145.00\t方差: 52.20\n",
      "大型扩建工程利润的期望: 140.00\t方差: 111.36\n",
      "选择中型扩建工程，因为中型扩建工程利润更高风险更小\n"
     ]
    }
   ],
   "source": [
    "dist1 = stats.rv_discrete(name='dist1', values=(np.array([50,150,200]), np.array([0.2,0.5,0.3])))\n",
    "dist2 = stats.rv_discrete(name='dist2', values=(np.array([0,100,300]), np.array([0.2,0.5,0.3])))\n",
    "\n",
    "print(\"中型扩建工程利润的期望: {:.2f}\\t方差: {:.2f}\".format(dist1.expect(),dist1.std()))\n",
    "print(\"大型扩建工程利润的期望: {:.2f}\\t方差: {:.2f}\".format(dist2.expect(),dist2.std()))\n",
    "print(\"选择中型扩建工程，因为中型扩建工程利润更高风险更小\")"
   ]
  },
  {
   "cell_type": "markdown",
   "id": "d7f92a53-10ea-4273-a748-c58c26f2fc2a",
   "metadata": {},
   "source": [
    "## 5.4. 二元分布、协方差和金融资产组合"
   ]
  },
  {
   "cell_type": "markdown",
   "id": "52458193-2c18-48c7-9436-97b77e6fd7fa",
   "metadata": {},
   "source": [
    "### 26"
   ]
  },
  {
   "cell_type": "markdown",
   "id": "33e4e620-fbf2-4cd0-a5ce-e945affec4a6",
   "metadata": {},
   "source": [
    "a. $\\sigma_x=\\sqrt{\\mathrm{Var}(x)}=5$, $\\sigma_y=\\sqrt{\\mathrm{Var}(y)}=1$, 那么股票1风险大于股票2\n",
    "\n",
    "b. 期望收益为$8.45\\%\\times 500=42.25$美元，标准差为$5\\%\\times 500=25$美元\n",
    "\n",
    "c. $E(0.5x+0.5y)=0.5E(x)+0.5E(y)=0.5\\times 8.45\\%+0.5\\times 3.2\\%=5.825\\%$, $\\sigma_{0.5x+0.5y}=\\sqrt{\\mathrm{Var}(0.5x+0.5y)}=\\sqrt{0.25\\mathrm{Var}(x)+0.25\\mathrm{Var}(y)+2\\times 0.5\\times 0.5\\sigma_{xy}}=\\sqrt{6.5-0.5\\times 3}=2.24\\%$\n",
    "\n",
    "d. $E(0.7x+0.3y)=0.7E(x)+0.3E(y)=0.7\\times 8.45\\%+0.3\\times 3.2\\%=6.875\\%$, $\\sigma_{0.7x+0.3y}=\\sqrt{\\mathrm{Var}(0.7x+0.3y)}=\\sqrt{0.49\\mathrm{Var}(x)+0.09\\mathrm{Var}(y)+2\\times 0.7\\times 0.3\\sigma_{xy}}=3.33\\%$\n",
    "\n",
    "e. $\\rho_{xy}=\\dfrac{\\sigma_{xy}}{\\sigma_x\\sigma_y}=-\\dfrac{3}{5\\times 1}=-0.6$, 强负相关关系"
   ]
  },
  {
   "cell_type": "markdown",
   "id": "66e9bb17-5d91-49e5-957b-28a3ab72f3e9",
   "metadata": {},
   "source": [
    "### 28"
   ]
  },
  {
   "cell_type": "code",
   "execution_count": 94,
   "id": "a4f69e43-1be8-4a75-acab-25d0323174b4",
   "metadata": {},
   "outputs": [
    {
     "name": "stdout",
     "output_type": "stream",
     "text": [
      "直接人工成本的: 数学期望: 45.30\t方差: 3.81\t标准差: 1.95\n",
      "零件成本的:     数学期望: 90.50\t方差: 24.75\t标准差: 4.97\n"
     ]
    }
   ],
   "source": [
    "data = pd.DataFrame({43:np.array([0.05,0.25]),\n",
    "                     45:np.array([0.2,0.2]),\n",
    "                     48:np.array([0.2,0.1])},index=[85,95])\n",
    "a = data.sum(axis=0)\n",
    "dist = stats.rv_discrete(name=\"dist1\",values=(a.index.to_list(), a.values))\n",
    "var1 = dist.var()\n",
    "print(\"直接人工成本的: 数学期望: {:.2f}\\t方差: {:.2f}\\t标准差: {:.2f}\".format(dist.expect(), dist.var(), dist.std()))\n",
    "\n",
    "b = data.sum(axis=1)\n",
    "dist = stats.rv_discrete(name=\"dist2\",values=(b.index.to_list(), b.values))\n",
    "var2 = dist.var()\n",
    "print(\"零件成本的:     数学期望: {:.2f}\\t方差: {:.2f}\\t标准差: {:.2f}\".format(dist.expect(), dist.var(), dist.std()))"
   ]
  },
  {
   "cell_type": "code",
   "execution_count": 95,
   "id": "dd4a6913-74fd-4107-8de7-f652fac02352",
   "metadata": {},
   "outputs": [
    {
     "name": "stdout",
     "output_type": "stream",
     "text": [
      "     x     p\n",
      "0  128  0.05\n",
      "1  138  0.25\n",
      "2  130  0.20\n",
      "3  140  0.20\n",
      "4  133  0.20\n",
      "5  143  0.10\n",
      "单位制造总成本的\t数学期望为: 135.80\t方差为: 21.26\t标准差为: 4.61\n"
     ]
    }
   ],
   "source": [
    "cost = []\n",
    "p = []\n",
    "for i in range(len(data.columns)):\n",
    "    for j in range(len(data.index)):\n",
    "        cost.append(data.columns[i]+data.index[j])\n",
    "        p.append(data.iloc[j,i])\n",
    "df = pd.DataFrame({\"x\":cost,\"p\":p})\n",
    "print(df)\n",
    "dist = stats.rv_discrete(values=(df.x,df.p))\n",
    "var3 = dist.var()\n",
    "print(\"单位制造总成本的\\t数学期望为: {:.2f}\\t方差为: {:.2f}\\t标准差为: {:.2f}\".format(dist.expect(),dist.var(),dist.std()))"
   ]
  },
  {
   "cell_type": "code",
   "execution_count": 98,
   "id": "ccd82bdb-9ed3-4566-a6f4-8236ee511c2b",
   "metadata": {},
   "outputs": [
    {
     "name": "stdout",
     "output_type": "stream",
     "text": [
      "协方差为: -3.65\n",
      "直接人工成本和零件成本不独立\n"
     ]
    }
   ],
   "source": [
    "print(\"协方差为: {:.2f}\".format((var3-var1-var2)/2))\n",
    "print(\"直接人工成本和零件成本不独立\")"
   ]
  },
  {
   "cell_type": "code",
   "execution_count": 100,
   "id": "fa76bdc7-f227-483c-8f06-e3a429b95d48",
   "metadata": {},
   "outputs": [
    {
     "name": "stdout",
     "output_type": "stream",
     "text": [
      "比预期偏低\n"
     ]
    }
   ],
   "source": [
    "if 1500*dist.expect()>198350:\n",
    "    print(\"比预期偏低\")\n",
    "elif 1500*dist.expect()<198350:\n",
    "    print(\"比预期偏高\")\n",
    "else:\n",
    "    print(\"和预期相等\")"
   ]
  },
  {
   "cell_type": "markdown",
   "id": "a01efe0c-7d90-4fb0-99e0-015eb6ef9a7f",
   "metadata": {},
   "source": [
    "### 30"
   ]
  },
  {
   "cell_type": "code",
   "execution_count": null,
   "id": "862356e4-e6ce-4982-b74a-fc71e4d344b0",
   "metadata": {},
   "outputs": [],
   "source": []
  },
  {
   "cell_type": "code",
   "execution_count": null,
   "id": "c39a0ad5-6a3d-4809-8186-a60e0fd21c1e",
   "metadata": {},
   "outputs": [],
   "source": []
  },
  {
   "cell_type": "code",
   "execution_count": null,
   "id": "76f533b7-f7c3-4578-bc80-ff3f4a16a474",
   "metadata": {},
   "outputs": [],
   "source": []
  },
  {
   "cell_type": "code",
   "execution_count": null,
   "id": "dd8d909e-0b83-422d-add9-93ba39702fb7",
   "metadata": {},
   "outputs": [],
   "source": []
  }
 ],
 "metadata": {
  "kernelspec": {
   "display_name": "Python 3",
   "language": "python",
   "name": "python3"
  },
  "language_info": {
   "codemirror_mode": {
    "name": "ipython",
    "version": 3
   },
   "file_extension": ".py",
   "mimetype": "text/x-python",
   "name": "python",
   "nbconvert_exporter": "python",
   "pygments_lexer": "ipython3",
   "version": "3.8.8"
  }
 },
 "nbformat": 4,
 "nbformat_minor": 5
}
