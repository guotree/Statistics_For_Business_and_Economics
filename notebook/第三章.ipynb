{
 "cells": [
  {
   "cell_type": "code",
   "execution_count": 1,
   "id": "0e21ce3b-60d3-4931-9335-0d8a310f1dc7",
   "metadata": {},
   "outputs": [],
   "source": [
    "import numpy as np\n",
    "import pandas as pd\n",
    "import scipy.stats as stats\n",
    "import matplotlib.pyplot as plt\n",
    "import seaborn as sns\n",
    "import plotly.express as px"
   ]
  },
  {
   "cell_type": "markdown",
   "id": "ad789d82-54f5-4ac7-95bd-6f7790e2ee2d",
   "metadata": {},
   "source": [
    "## 位置的度量"
   ]
  },
  {
   "cell_type": "markdown",
   "id": "52d9859e-0306-4dd0-848f-9df70cb31a7a",
   "metadata": {},
   "source": [
    "### 2"
   ]
  },
  {
   "cell_type": "code",
   "execution_count": 6,
   "id": "67ca4dc0-12b3-4ac2-8c0a-cb46f8bdc6a3",
   "metadata": {},
   "outputs": [
    {
     "data": {
      "text/plain": [
       "(16.8, 17.0)"
      ]
     },
     "execution_count": 6,
     "metadata": {},
     "output_type": "execute_result"
    }
   ],
   "source": [
    "data = np.array([10,20,21,17,16])\n",
    "np.mean(data), np.median(data)"
   ]
  },
  {
   "cell_type": "markdown",
   "id": "17e19cb2-23e0-4acf-8a6c-31d33ab09566",
   "metadata": {},
   "source": [
    "### 4"
   ]
  },
  {
   "cell_type": "code",
   "execution_count": 10,
   "id": "58e4c80e-43c9-46e1-b3bb-71a48da3085a",
   "metadata": {},
   "outputs": [
    {
     "data": {
      "text/plain": [
       "0.9775197468433319"
      ]
     },
     "execution_count": 10,
     "metadata": {},
     "output_type": "execute_result"
    }
   ],
   "source": [
    "data = np.array([-0.06,-0.08,-0.04,0.02,0.054])+1\n",
    "stats.gmean(data)"
   ]
  },
  {
   "cell_type": "markdown",
   "id": "ec4abe7f-02a0-4e35-89dd-5d0ba9fe72ca",
   "metadata": {},
   "source": [
    "### 6"
   ]
  },
  {
   "cell_type": "code",
   "execution_count": 11,
   "id": "def8eead-b960-44c2-b4a0-ff39d88f9379",
   "metadata": {},
   "outputs": [
    {
     "data": {
      "text/plain": [
       "ModeResult(mode=array([53]), count=array([3]))"
      ]
     },
     "execution_count": 11,
     "metadata": {},
     "output_type": "execute_result"
    }
   ],
   "source": [
    "data = np.array([53,55,70,58,64,57,53,69,57,68,53])\n",
    "stats.mode(data)"
   ]
  },
  {
   "cell_type": "markdown",
   "id": "201ffdca-102d-4f45-b439-ba5b2d1c20b0",
   "metadata": {},
   "source": [
    "### 8"
   ]
  },
  {
   "cell_type": "code",
   "execution_count": 29,
   "id": "2461f5c6-c29b-4328-83e2-5ef5cef30a6e",
   "metadata": {},
   "outputs": [
    {
     "name": "stdout",
     "output_type": "stream",
     "text": [
      "中位数： 80.0\n",
      "平均数： 84.0\n"
     ]
    },
    {
     "data": {
      "image/png": "[encoded data removed]",
      "text/plain": [
       "<Figure size 432x288 with 1 Axes>"
      ]
     },
     "metadata": {
      "needs_background": "light"
     },
     "output_type": "display_data"
    },
    {
     "name": "stdout",
     "output_type": "stream",
     "text": [
      "第一四分位数： 70.0\n",
      "第三四分位数： 99.5\n"
     ]
    }
   ],
   "source": [
    "data = np.array([108,83,106,73,53,85,80,63,67,75,124,55,93,118,77])\n",
    "print(\"中位数：\",np.median(data))\n",
    "print(\"平均数：\",np.mean(data))\n",
    "\n",
    "fig, ax = plt.subplots(figsize=(6,4))\n",
    "ax.hist(data,bins=10,color=\"grey\")\n",
    "ax.set_title(\"Histogram\")\n",
    "plt.show()\n",
    "\n",
    "print(\"第一四分位数：\",np.quantile(data,0.25))\n",
    "print(\"第三四分位数：\",np.quantile(data,0.75))"
   ]
  },
  {
   "cell_type": "markdown",
   "id": "f18dcdad-8c71-4ce7-b6e7-c0ee0e1a0236",
   "metadata": {},
   "source": [
    "### 10"
   ]
  },
  {
   "cell_type": "code",
   "execution_count": 37,
   "id": "004ce18f-5621-41be-888f-2f5e21bf0424",
   "metadata": {},
   "outputs": [
    {
     "name": "stdout",
     "output_type": "stream",
     "text": [
      "平均数： 65.9\n",
      "中位数： 66.5\n",
      "众数： 61\n",
      "第一四分位数： 61.0\n",
      "第三四分位数： 71.0\n",
      "第90百分位数： 78.30000000000001\n"
     ]
    }
   ],
   "source": [
    "data = np.array([42,66,67,71,78,62,61,76,71,67,61,64,61,54,83,63,68,69,81,53])\n",
    "print(\"平均数：\",np.mean(data))\n",
    "print(\"中位数：\",np.median(data))\n",
    "print(\"众数：\",stats.mode(data).mode[0])\n",
    "print(\"第一四分位数：\",np.quantile(data,0.25))\n",
    "print(\"第三四分位数：\",np.quantile(data,0.75))\n",
    "print(\"第90百分位数：\",np.quantile(data,0.9))"
   ]
  },
  {
   "cell_type": "markdown",
   "id": "b9a2e693-bd18-4e9f-886c-b0699bb94c1a",
   "metadata": {},
   "source": [
    "### 12"
   ]
  },
  {
   "cell_type": "code",
   "execution_count": 108,
   "id": "b5041188-4e66-4c18-86fb-4bfe55959c59",
   "metadata": {},
   "outputs": [
    {
     "name": "stdout",
     "output_type": "stream",
     "text": [
      "最大数：16.50       \t最小数：13.30       \n",
      "平均数：15.04       \t中位数：15.00       \t众数：13.60       \n",
      "第一四分位数：14.10       \t第三四分位数：16.00       \n"
     ]
    },
    {
     "data": {
      "image/png": "[encoded data removed]",
      "text/plain": [
       "<Figure size 432x288 with 1 Axes>"
      ]
     },
     "metadata": {
      "needs_background": "light"
     },
     "output_type": "display_data"
    },
    {
     "name": "stdout",
     "output_type": "stream",
     "text": [
      "            Viewers (millions)\n",
      "Air Date                      \n",
      "2011-12-31               161.0\n",
      "2012-12-31               154.9\n"
     ]
    }
   ],
   "source": [
    "data = pd.read_csv('../商务与经济统计/数据文件/第3章/BigBangTheory.csv')\n",
    "data['Air Date'] = pd.to_datetime(data['Air Date'])\n",
    "data = data.set_index('Air Date')\n",
    "\n",
    "view = data[\"Viewers (millions)\"]\n",
    "print(\"最大数：{:<12.2f}\\t最小数：{:<12.2f}\".format(np.max(view),np.min(view)))\n",
    "print(\"平均数：{:<12.2f}\\t中位数：{:<12.2f}\\t众数：{:<12.2f}\".format(np.mean(view),np.median(view),stats.mode(view).mode[0]))\n",
    "print(\"第一四分位数：{:<12.2f}\\t第三四分位数：{:<12.2f}\".format(np.quantile(view,0.25),np.quantile(view,0.75)))\n",
    "fig,ax = plt.subplots(figsize=(6,4))\n",
    "ax.plot(data.index,data[\"Viewers (millions)\"],color='k')\n",
    "ax.set_title(\"Trend of viewers\")\n",
    "plt.show()\n",
    "print(data.resample('Y').sum())"
   ]
  },
  {
   "cell_type": "markdown",
   "id": "55462d15-80ed-4598-b13e-0f6997025d76",
   "metadata": {},
   "source": [
    "### 14"
   ]
  },
  {
   "cell_type": "code",
   "execution_count": 125,
   "id": "ea4a5421-2e66-42c2-8925-7a3755d3c85f",
   "metadata": {},
   "outputs": [
    {
     "name": "stdout",
     "output_type": "stream",
     "text": [
      "2011年3月:\n",
      "  第一四分位数：6.875\n",
      "  中位数：8.0\n",
      "  第三四分位数：9.4\n",
      "\n",
      "2012年3月:\n",
      "  第一四分位数：6.25\n",
      "  中位数：7.35\n",
      "  第三四分位数：8.575\n"
     ]
    },
    {
     "data": {
      "image/png": "[encoded data removed]",
      "text/plain": [
       "<Figure size 432x288 with 1 Axes>"
      ]
     },
     "metadata": {
      "needs_background": "light"
     },
     "output_type": "display_data"
    },
    {
     "name": "stdout",
     "output_type": "stream",
     "text": [
      "失业率在下降\n"
     ]
    }
   ],
   "source": [
    "data = pd.read_csv('../商务与经济统计/数据文件/第3章/StateUnemp.csv')\n",
    "q2011_1 = np.quantile(data[\"Uneployment Rate March 2011\"],0.25)\n",
    "m2011 = np.median(data[\"Uneployment Rate March 2011\"])\n",
    "q2011_3 = np.quantile(data[\"Uneployment Rate March 2011\"],0.75)\n",
    "q2012_1 = np.quantile(data[\"Uneployment Rate March 2012\"],0.25)\n",
    "m2012 = np.median(data[\"Uneployment Rate March 2012\"])\n",
    "q2012_3 = np.quantile(data[\"Uneployment Rate March 2012\"],0.75)\n",
    "\n",
    "print(\"2011年3月:\\n  第一四分位数：{}\\n  中位数：{}\\n  第三四分位数：{}\".format(q2011_1,m2011,q2011_3))\n",
    "print(\"\\n2012年3月:\\n  第一四分位数：{}\\n  中位数：{}\\n  第三四分位数：{}\".format(q2012_1,m2012,q2012_3))\n",
    "fig, ax = plt.subplots(figsize=(6,4))\n",
    "ax.boxplot([data[\"Uneployment Rate March 2011\"],data[\"Uneployment Rate March 2012\"]],labels=[\"Uneployment Rate March 2011\",\"Uneployment Rate March 2012\"])\n",
    "plt.show()\n",
    "print(\"失业率在下降\")"
   ]
  },
  {
   "cell_type": "markdown",
   "id": "6fa1d727-6e86-4ad4-b05c-68f78d1e2fd0",
   "metadata": {},
   "source": [
    "### 16"
   ]
  },
  {
   "cell_type": "code",
   "execution_count": 128,
   "id": "3269ca09-748b-4088-8dc4-6a1e84a90129",
   "metadata": {},
   "outputs": [
    {
     "name": "stdout",
     "output_type": "stream",
     "text": [
      "平均等级分：2.5\n"
     ]
    }
   ],
   "source": [
    "avg = 4*9/60+3*15/60+2*33/60+1*3/60\n",
    "print(\"平均等级分：{}\".format(avg))"
   ]
  },
  {
   "cell_type": "markdown",
   "id": "78d0dc59-c273-4750-a539-daa68db54ec5",
   "metadata": {},
   "source": [
    "### 18"
   ]
  },
  {
   "cell_type": "code",
   "execution_count": 3,
   "id": "4472a6b7-7765-4cd7-bc7f-213018aca85e",
   "metadata": {},
   "outputs": [
    {
     "data": {
      "text/plain": [
       "3.76"
      ]
     },
     "execution_count": 3,
     "metadata": {},
     "output_type": "execute_result"
    }
   ],
   "source": [
    "data = np.array([5,4,3,2,1])\n",
    "w = np.array([44,66,60,10,0])+np.array([31,34,43,12,0])\n",
    "np.average(a=data,weights=w)"
   ]
  },
  {
   "cell_type": "markdown",
   "id": "bcc38f4b-a7cb-4a2d-8020-bed06755a76f",
   "metadata": {},
   "source": [
    "### 20"
   ]
  },
  {
   "cell_type": "code",
   "execution_count": 10,
   "id": "176572d1-3773-480e-962a-5d2c6044f44b",
   "metadata": {},
   "outputs": [
    {
     "data": {
      "image/png": "[encoded data removed]",
      "text/plain": [
       "<Figure size 864x360 with 2 Axes>"
      ]
     },
     "metadata": {
      "needs_background": "light"
     },
     "output_type": "display_data"
    }
   ],
   "source": [
    "data1 = np.array([11000,12000,13000,14000,15000,16000,17000,18000])\n",
    "data2 = np.array([5600,6300,6900,7600,8500,9200,9900,10600])\n",
    "fig, ax = plt.subplots(1,2,figsize=(12,5))\n",
    "ax[0].plot(data1)\n",
    "ax[0].plot(data2)\n",
    "ax[1].boxplot([data1,data2])\n",
    "plt.show()"
   ]
  },
  {
   "cell_type": "markdown",
   "id": "c022ff59-1a31-42bf-8c5f-7691509af1d8",
   "metadata": {},
   "source": [
    "### 22"
   ]
  },
  {
   "cell_type": "code",
   "execution_count": 5,
   "id": "1216278e-b4f9-4244-8b14-bd7bf60a40f4",
   "metadata": {},
   "outputs": [
    {
     "data": {
      "text/plain": [
       "0.1649930507507129"
      ]
     },
     "execution_count": 5,
     "metadata": {},
     "output_type": "execute_result"
    }
   ],
   "source": [
    "(0.25/0.1)**(1/6)-1"
   ]
  },
  {
   "cell_type": "markdown",
   "id": "c15d1302-fcdf-4e1b-99ac-3546c7725bc7",
   "metadata": {},
   "source": [
    "### 24"
   ]
  },
  {
   "cell_type": "code",
   "execution_count": 12,
   "id": "37947618-f3be-4f8e-9808-ba15c62c97a1",
   "metadata": {},
   "outputs": [
    {
     "name": "stdout",
     "output_type": "stream",
     "text": [
      "方差：16.0\n",
      "标准差：4.0\n"
     ]
    }
   ],
   "source": [
    "data = np.array([10,20,12,17,16])\n",
    "print(\"方差：{}\".format(np.var(data,ddof=1)))\n",
    "print(\"标准差：{}\".format(np.std(data,ddof=1)))"
   ]
  },
  {
   "cell_type": "markdown",
   "id": "7c0ddee8-a814-4b86-9e1d-c708574ecd44",
   "metadata": {},
   "source": [
    "### 26"
   ]
  },
  {
   "cell_type": "code",
   "execution_count": 18,
   "id": "6e24aaf7-4831-4b1b-9e75-a7531eaee819",
   "metadata": {},
   "outputs": [
    {
     "name": "stdout",
     "output_type": "stream",
     "text": [
      "平均价格：3.72\n",
      "样本标准差：0.29\n"
     ]
    }
   ],
   "source": [
    "data = pd.read_csv(\"../商务与经济统计/数据文件/第3章/SFGasPrices.csv\")\n",
    "print(\"平均价格：{:.2f}\".format(np.mean(data[\"Price per Gallon ($)\"])))\n",
    "print(\"样本标准差：{:.2f}\".format(np.std(data[\"Price per Gallon ($)\"],ddof=1)))"
   ]
  },
  {
   "cell_type": "markdown",
   "id": "713f5e59-e812-45bc-83d1-80dcf611cceb",
   "metadata": {},
   "source": [
    "### 28"
   ]
  },
  {
   "cell_type": "code",
   "execution_count": 28,
   "id": "09f64476-6862-4e23-93b5-c32407f422dc",
   "metadata": {},
   "outputs": [
    {
     "name": "stdout",
     "output_type": "stream",
     "text": [
      "平均数：180.95\n",
      "方差：21.42\n",
      "标准差：4.63\n",
      "2012: [176.3, 185.6]\n",
      "2011: [176.7, 188.3]\n"
     ]
    }
   ],
   "source": [
    "data = pd.read_csv(\"../商务与经济统计/数据文件/第3章/AustralianOpen.csv\")\n",
    "mean = np.mean(data[\"Serve Speed (km/h)\"])\n",
    "var = np.var(data[\"Serve Speed (km/h)\"],ddof=1)\n",
    "std = np.std(data[\"Serve Speed (km/h)\"],ddof=1)\n",
    "print(\"平均数：{:.2f}\".format(mean))\n",
    "print(\"方差：{:.2f}\".format(var))\n",
    "print(\"标准差：{:.2f}\".format(std))\n",
    "print(\"2012: [{:.1f}, {:.1f}]\".format((mean-std),(mean+std)))\n",
    "print(\"2011: [{:.1f}, {:.1f}]\".format((182.5-5.77),(182.5+5.77)))"
   ]
  },
  {
   "cell_type": "markdown",
   "id": "c5fd3da2-352e-4f82-b081-2288ea8f7f0e",
   "metadata": {},
   "source": [
    "### 30"
   ]
  },
  {
   "cell_type": "code",
   "execution_count": 32,
   "id": "41242f4e-5268-4143-854e-af401d694220",
   "metadata": {},
   "outputs": [
    {
     "name": "stdout",
     "output_type": "stream",
     "text": [
      "Dawson 极差：2.00\t标准差：0.67\n",
      "Clark  极差：8.00\t标准差：2.58\n"
     ]
    }
   ],
   "source": [
    "dawson = np.array([11,10,9,10,11,11,10,11,10,10])\n",
    "clark = np.array([8,10,13,7,10,11,10,7,15,12])\n",
    "print(\"Dawson 极差：{:.2f}\\t标准差：{:.2f}\".format(np.max(dawson)-np.min(dawson),np.std(dawson,ddof=1)))\n",
    "print(\"Clark  极差：{:.2f}\\t标准差：{:.2f}\".format(np.max(clark)-np.min(clark),np.std(clark,ddof=1)))"
   ]
  },
  {
   "cell_type": "markdown",
   "id": "d8fc7645-0962-4e00-8937-e676d9014c80",
   "metadata": {},
   "source": [
    "### 32"
   ]
  },
  {
   "cell_type": "code",
   "execution_count": 51,
   "id": "9854f3d8-7052-452e-b820-dc303aec2245",
   "metadata": {},
   "outputs": [
    {
     "name": "stdout",
     "output_type": "stream",
     "text": [
      "平均数：\n",
      "Automotive          1960.05\n",
      "Department Store     692.85\n",
      "dtype: float64 \n",
      "\n",
      "标准差：\n",
      "Automotive          481.648537\n",
      "Department Store    155.055941\n",
      "dtype: float64 \n",
      "\n",
      "极差：\n",
      "[2303  563] \n",
      "\n",
      "IQR：\n",
      "[496.5 197.5] \n",
      "\n"
     ]
    }
   ],
   "source": [
    "data = pd.read_csv(\"../商务与经济统计/数据文件/第3章/Advertising.csv\")\n",
    "print(\"平均数：\")\n",
    "print(np.mean(data),\"\\n\")\n",
    "print(\"标准差：\")\n",
    "print(np.std(data,ddof=1),\"\\n\")\n",
    "print(\"极差：\")\n",
    "print(np.ptp(data,axis=0),\"\\n\")\n",
    "print(\"IQR：\")\n",
    "print(stats.iqr(data,axis=0),\"\\n\")"
   ]
  },
  {
   "cell_type": "markdown",
   "id": "33c17453-8621-40cd-afab-5a8acfef6eea",
   "metadata": {},
   "source": [
    "### 34"
   ]
  },
  {
   "cell_type": "code",
   "execution_count": 55,
   "id": "62d43531-1cbd-4b1b-aab4-d5777f5d4538",
   "metadata": {},
   "outputs": [
    {
     "name": "stdout",
     "output_type": "stream",
     "text": [
      "0.25英里的时间：\n",
      "\t标准差：0.0564\n",
      "\t标准差系数：0.0584\n",
      "1英里的时间：\n",
      "\t标准差：0.1295\n",
      "\t标准差系数：0.0286\n"
     ]
    }
   ],
   "source": [
    "data1 = np.array([0.92,0.98,1.04,0.90,0.99])\n",
    "data2 = np.array([4.52,4.35,4.60,4.70,4.50])\n",
    "print(\"0.25英里的时间：\\n\\t标准差：{:.4f}\\n\\t标准差系数：{:.4f}\".format(np.std(data1,ddof=1),np.std(data1,ddof=1)/np.mean(data1)))\n",
    "print(\"1英里的时间：\\n\\t标准差：{:.4f}\\n\\t标准差系数：{:.4f}\".format(np.std(data2,ddof=1),np.std(data2,ddof=1)/np.mean(data2)))"
   ]
  },
  {
   "cell_type": "markdown",
   "id": "ab06a22b-386e-451a-bc84-edae440b857e",
   "metadata": {},
   "source": [
    "### 36"
   ]
  },
  {
   "cell_type": "code",
   "execution_count": 57,
   "id": "d4a6349e-3d1b-41ba-a052-5c6a2c557924",
   "metadata": {},
   "outputs": [
    {
     "name": "stdout",
     "output_type": "stream",
     "text": [
      "Z-Score: [ 0.2  1.5  0.  -0.5 -2.2]\n"
     ]
    }
   ],
   "source": [
    "std = 100\n",
    "mean = 500\n",
    "\n",
    "data = np.array([520,650,500,450,280])\n",
    "zscore = (data-mean)/std\n",
    "print(\"Z-Score: {}\".format(zscore))"
   ]
  },
  {
   "cell_type": "markdown",
   "id": "3d94dfa7-892d-4960-b613-435f8e06263c",
   "metadata": {},
   "source": [
    "### 38"
   ]
  },
  {
   "cell_type": "code",
   "execution_count": 67,
   "id": "22c8ce19-04ff-4f34-83e9-8699147fdff2",
   "metadata": {},
   "outputs": [
    {
     "name": "stdout",
     "output_type": "stream",
     "text": [
      "20~40所占比例：0.9545\n",
      "15~45所占比例：0.9973\n",
      "25~35所占比例：0.6827\n"
     ]
    }
   ],
   "source": [
    "d = stats.norm(loc=30,scale=5)\n",
    "print(\"20~40所占比例：{:.4f}\".format(d.cdf(40)-d.cdf(20)))\n",
    "print(\"15~45所占比例：{:.4f}\".format(d.cdf(45)-d.cdf(15)))\n",
    "print(\"25~35所占比例：{:.4f}\".format(d.cdf(35)-d.cdf(25)))"
   ]
  },
  {
   "cell_type": "markdown",
   "id": "e53a365f-bd45-458c-9462-c44eca1e618e",
   "metadata": {},
   "source": [
    "### 40"
   ]
  },
  {
   "cell_type": "code",
   "execution_count": 74,
   "id": "af2926b6-5e9b-43e3-83f0-8e5fe20c2843",
   "metadata": {},
   "outputs": [
    {
     "name": "stdout",
     "output_type": "stream",
     "text": [
      "3.33~3.53所占比例：0.6827\n",
      "3.33~3.63所占比例：0.8186\n",
      "3.63以上所占比例：0.0228\n"
     ]
    }
   ],
   "source": [
    "d = stats.norm(loc=3.43,scale=0.1)\n",
    "print(\"3.33~3.53所占比例：{:.4f}\".format(d.cdf(3.53)-d.cdf(3.33)))\n",
    "print(\"3.33~3.63所占比例：{:.4f}\".format(d.cdf(3.63)-d.cdf(3.33)))\n",
    "print(\"3.63以上所占比例：{:.4f}\".format(d.sf(3.63)))"
   ]
  },
  {
   "cell_type": "markdown",
   "id": "95aec28f-c16e-4b00-b22a-ef562b426074",
   "metadata": {},
   "source": [
    "### 42"
   ]
  },
  {
   "cell_type": "code",
   "execution_count": 83,
   "id": "c2a270da-b7fb-4a39-bf23-cd3092931fe7",
   "metadata": {},
   "outputs": [
    {
     "name": "stdout",
     "output_type": "stream",
     "text": [
      "2300的zscore为：-0.67\n",
      "4900的zscore为：1.50\n",
      "基于3sigma原则，2300和4900不能视为异常值\n",
      "\n",
      "13000的zscore为：8.25\n",
      "大于3sigma，13000为异常值\n"
     ]
    }
   ],
   "source": [
    "mean = 3100\n",
    "std = 1200\n",
    "print(\"2300的zscore为：{:.2f}\".format((2300-mean)/std))\n",
    "print(\"4900的zscore为：{:.2f}\".format((4900-mean)/std))\n",
    "print(\"基于3sigma原则，2300和4900不能视为异常值\\n\")\n",
    "print(\"13000的zscore为：{:.2f}\".format((13000-mean)/std))\n",
    "print(\"大于3sigma，13000为异常值\")"
   ]
  },
  {
   "cell_type": "code",
   "execution_count": 117,
   "id": "66141030-d5bd-4a13-9a7e-d761287cb6c9",
   "metadata": {},
   "outputs": [
    {
     "name": "stdout",
     "output_type": "stream",
     "text": [
      "获胜队的平均数：76.50\n",
      "获胜队的标准差：6.65\n",
      "获胜队得分84以上所占比例：0.1298\n",
      "获胜队得分90以上所占比例：0.0212\n",
      "得分差的平均数：12.20\n",
      "得分差的标准差：7.48\n",
      "没有异常值\n"
     ]
    }
   ],
   "source": [
    "data = pd.read_csv(\"../商务与经济统计/数据文件/第3章/NCAA.csv\",header=0,usecols=[0,1,3,4,6],names=['winning','w_point','losing','l_point','m_point'])\n",
    "data.dropna(inplace=True)\n",
    "mean = np.mean(data['w_point'])\n",
    "std = np.std(data['w_point'])\n",
    "print(\"获胜队的平均数：{:>2.2f}\".format(mean))\n",
    "print(\"获胜队的标准差：{:>2.2f}\".format(std))\n",
    "\n",
    "d = stats.norm(loc=mean,scale=std)\n",
    "print(\"获胜队得分84以上所占比例：{:.4f}\".format(d.sf(84)))\n",
    "print(\"获胜队得分90以上所占比例：{:.4f}\".format(d.sf(90)))\n",
    "\n",
    "mean = np.mean(data['m_point'])\n",
    "std = np.std(data['m_point'])\n",
    "print(\"得分差的平均数：{:>2.2f}\".format(mean))\n",
    "print(\"得分差的标准差：{:>2.2f}\".format(std))\n",
    "zscore = (data['m_point']-mean)/std\n",
    "if (np.abs(zscore)<=3).all():\n",
    "    print(\"没有异常值\")\n",
    "else:\n",
    "    print(\"有异常值\")"
   ]
  },
  {
   "cell_type": "markdown",
   "id": "7485e345-2f67-4ef8-8e66-a52c1cf73a99",
   "metadata": {},
   "source": [
    "### 46"
   ]
  },
  {
   "cell_type": "code",
   "execution_count": 119,
   "id": "8630218e-7b18-4b2d-bc94-19378579e536",
   "metadata": {},
   "outputs": [
    {
     "name": "stdout",
     "output_type": "stream",
     "text": [
      "Min: 28.62\tQ1：23.75\tQ2: 27.50\tQ3: 31.00\tMax: 50.00\n"
     ]
    }
   ],
   "source": [
    "data = np.array([27,50,20,15,30,34,28,25])\n",
    "print(\"Min: {:>.2f}\\tQ1：{:.2f}\\tQ2: {:>.2f}\\tQ3: {:>.2f}\\tMax: {:>.2f}\"\n",
    "      .format(np.mean(data),np.quantile(data,0.25),np.median(data),np.quantile(data,0.75),np.max(data)))"
   ]
  },
  {
   "cell_type": "markdown",
   "id": "a9679588-b7a4-4811-8f54-c9ba586e5879",
   "metadata": {},
   "source": [
    "### 47"
   ]
  },
  {
   "cell_type": "code",
   "execution_count": 6,
   "id": "e309de3c-c49b-4ee3-8fa3-7e98ab3d062a",
   "metadata": {},
   "outputs": [
    {
     "name": "stdout",
     "output_type": "stream",
     "text": [
      "Min: 11.11\tQ1：8.00\tQ2: 10.00\tQ3: 15.00\tMax: 18.00\n"
     ]
    },
    {
     "data": {
      "image/png": "[encoded data removed]",
      "text/plain": [
       "<Figure size 288x144 with 1 Axes>"
      ]
     },
     "metadata": {
      "needs_background": "light"
     },
     "output_type": "display_data"
    },
    {
     "data": {
      "image/png": "[encoded data removed]",
      "text/plain": [
       "<Figure size 288x144 with 1 Axes>"
      ]
     },
     "metadata": {
      "needs_background": "light"
     },
     "output_type": "display_data"
    },
    {
     "data": {
      "application/vnd.plotly.v1+json": {
       "config": {
        "plotlyServerURL": "https://plot.ly"
       },
       "data": [
        {
         "alignmentgroup": "True",
         "hovertemplate": "x=%{x}<extra></extra>",
         "legendgroup": "",
         "marker": {
          "color": "#636efa"
         },
         "name": "",
         "notched": false,
         "offsetgroup": "",
         "orientation": "h",
         "showlegend": false,
         "type": "box",
         "x": [
          5,
          15,
          18,
          10,
          8,
          12,
          16,
          10,
          6
         ],
         "x0": " ",
         "xaxis": "x",
         "y0": " ",
         "yaxis": "y"
        }
       ],
       "layout": {
        "boxmode": "group",
        "height": 200,
        "legend": {
         "tracegroupgap": 0
        },
        "margin": {
         "t": 60
        },
        "template": {
         "data": {
          "bar": [
           {
            "error_x": {
             "color": "#2a3f5f"
            },
            "error_y": {
             "color": "#2a3f5f"
            },
            "marker": {
             "line": {
              "color": "#E5ECF6",
              "width": 0.5
             },
             "pattern": {
              "fillmode": "overlay",
              "size": 10,
              "solidity": 0.2
             }
            },
            "type": "bar"
           }
          ],
          "barpolar": [
           {
            "marker": {
             "line": {
              "color": "#E5ECF6",
              "width": 0.5
             },
             "pattern": {
              "fillmode": "overlay",
              "size": 10,
              "solidity": 0.2
             }
            },
            "type": "barpolar"
           }
          ],
          "carpet": [
           {
            "aaxis": {
             "endlinecolor": "#2a3f5f",
             "gridcolor": "white",
             "linecolor": "white",
             "minorgridcolor": "white",
             "startlinecolor": "#2a3f5f"
            },
            "baxis": {
             "endlinecolor": "#2a3f5f",
             "gridcolor": "white",
             "linecolor": "white",
             "minorgridcolor": "white",
             "startlinecolor": "#2a3f5f"
            },
            "type": "carpet"
           }
          ],
          "choropleth": [
           {
            "colorbar": {
             "outlinewidth": 0,
             "ticks": ""
            },
            "type": "choropleth"
           }
          ],
          "contour": [
           {
            "colorbar": {
             "outlinewidth": 0,
             "ticks": ""
            },
            "colorscale": [
             [
              0,
              "#0d0887"
             ],
             [
              0.1111111111111111,
              "#46039f"
             ],
             [
              0.2222222222222222,
              "#7201a8"
             ],
             [
              0.3333333333333333,
              "#9c179e"
             ],
             [
              0.4444444444444444,
              "#bd3786"
             ],
             [
              0.5555555555555556,
              "#d8576b"
             ],
             [
              0.6666666666666666,
              "#ed7953"
             ],
             [
              0.7777777777777778,
              "#fb9f3a"
             ],
             [
              0.8888888888888888,
              "#fdca26"
             ],
             [
              1,
              "#f0f921"
             ]
            ],
            "type": "contour"
           }
          ],
          "contourcarpet": [
           {
            "colorbar": {
             "outlinewidth": 0,
             "ticks": ""
            },
            "type": "contourcarpet"
           }
          ],
          "heatmap": [
           {
            "colorbar": {
             "outlinewidth": 0,
             "ticks": ""
            },
            "colorscale": [
             [
              0,
              "#0d0887"
             ],
             [
              0.1111111111111111,
              "#46039f"
             ],
             [
              0.2222222222222222,
              "#7201a8"
             ],
             [
              0.3333333333333333,
              "#9c179e"
             ],
             [
              0.4444444444444444,
              "#bd3786"
             ],
             [
              0.5555555555555556,
              "#d8576b"
             ],
             [
              0.6666666666666666,
              "#ed7953"
             ],
             [
              0.7777777777777778,
              "#fb9f3a"
             ],
             [
              0.8888888888888888,
              "#fdca26"
             ],
             [
              1,
              "#f0f921"
             ]
            ],
            "type": "heatmap"
           }
          ],
          "heatmapgl": [
           {
            "colorbar": {
             "outlinewidth": 0,
             "ticks": ""
            },
            "colorscale": [
             [
              0,
              "#0d0887"
             ],
             [
              0.1111111111111111,
              "#46039f"
             ],
             [
              0.2222222222222222,
              "#7201a8"
             ],
             [
              0.3333333333333333,
              "#9c179e"
             ],
             [
              0.4444444444444444,
              "#bd3786"
             ],
             [
              0.5555555555555556,
              "#d8576b"
             ],
             [
              0.6666666666666666,
              "#ed7953"
             ],
             [
              0.7777777777777778,
              "#fb9f3a"
             ],
             [
              0.8888888888888888,
              "#fdca26"
             ],
             [
              1,
              "#f0f921"
             ]
            ],
            "type": "heatmapgl"
           }
          ],
          "histogram": [
           {
            "marker": {
             "pattern": {
              "fillmode": "overlay",
              "size": 10,
              "solidity": 0.2
             }
            },
            "type": "histogram"
           }
          ],
          "histogram2d": [
           {
            "colorbar": {
             "outlinewidth": 0,
             "ticks": ""
            },
            "colorscale": [
             [
              0,
              "#0d0887"
             ],
             [
              0.1111111111111111,
              "#46039f"
             ],
             [
              0.2222222222222222,
              "#7201a8"
             ],
             [
              0.3333333333333333,
              "#9c179e"
             ],
             [
              0.4444444444444444,
              "#bd3786"
             ],
             [
              0.5555555555555556,
              "#d8576b"
             ],
             [
              0.6666666666666666,
              "#ed7953"
             ],
             [
              0.7777777777777778,
              "#fb9f3a"
             ],
             [
              0.8888888888888888,
              "#fdca26"
             ],
             [
              1,
              "#f0f921"
             ]
            ],
            "type": "histogram2d"
           }
          ],
          "histogram2dcontour": [
           {
            "colorbar": {
             "outlinewidth": 0,
             "ticks": ""
            },
            "colorscale": [
             [
              0,
              "#0d0887"
             ],
             [
              0.1111111111111111,
              "#46039f"
             ],
             [
              0.2222222222222222,
              "#7201a8"
             ],
             [
              0.3333333333333333,
              "#9c179e"
             ],
             [
              0.4444444444444444,
              "#bd3786"
             ],
             [
              0.5555555555555556,
              "#d8576b"
             ],
             [
              0.6666666666666666,
              "#ed7953"
             ],
             [
              0.7777777777777778,
              "#fb9f3a"
             ],
             [
              0.8888888888888888,
              "#fdca26"
             ],
             [
              1,
              "#f0f921"
             ]
            ],
            "type": "histogram2dcontour"
           }
          ],
          "mesh3d": [
           {
            "colorbar": {
             "outlinewidth": 0,
             "ticks": ""
            },
            "type": "mesh3d"
           }
          ],
          "parcoords": [
           {
            "line": {
             "colorbar": {
              "outlinewidth": 0,
              "ticks": ""
             }
            },
            "type": "parcoords"
           }
          ],
          "pie": [
           {
            "automargin": true,
            "type": "pie"
           }
          ],
          "scatter": [
           {
            "marker": {
             "colorbar": {
              "outlinewidth": 0,
              "ticks": ""
             }
            },
            "type": "scatter"
           }
          ],
          "scatter3d": [
           {
            "line": {
             "colorbar": {
              "outlinewidth": 0,
              "ticks": ""
             }
            },
            "marker": {
             "colorbar": {
              "outlinewidth": 0,
              "ticks": ""
             }
            },
            "type": "scatter3d"
           }
          ],
          "scattercarpet": [
           {
            "marker": {
             "colorbar": {
              "outlinewidth": 0,
              "ticks": ""
             }
            },
            "type": "scattercarpet"
           }
          ],
          "scattergeo": [
           {
            "marker": {
             "colorbar": {
              "outlinewidth": 0,
              "ticks": ""
             }
            },
            "type": "scattergeo"
           }
          ],
          "scattergl": [
           {
            "marker": {
             "colorbar": {
              "outlinewidth": 0,
              "ticks": ""
             }
            },
            "type": "scattergl"
           }
          ],
          "scattermapbox": [
           {
            "marker": {
             "colorbar": {
              "outlinewidth": 0,
              "ticks": ""
             }
            },
            "type": "scattermapbox"
           }
          ],
          "scatterpolar": [
           {
            "marker": {
             "colorbar": {
              "outlinewidth": 0,
              "ticks": ""
             }
            },
            "type": "scatterpolar"
           }
          ],
          "scatterpolargl": [
           {
            "marker": {
             "colorbar": {
              "outlinewidth": 0,
              "ticks": ""
             }
            },
            "type": "scatterpolargl"
           }
          ],
          "scatterternary": [
           {
            "marker": {
             "colorbar": {
              "outlinewidth": 0,
              "ticks": ""
             }
            },
            "type": "scatterternary"
           }
          ],
          "surface": [
           {
            "colorbar": {
             "outlinewidth": 0,
             "ticks": ""
            },
            "colorscale": [
             [
              0,
              "#0d0887"
             ],
             [
              0.1111111111111111,
              "#46039f"
             ],
             [
              0.2222222222222222,
              "#7201a8"
             ],
             [
              0.3333333333333333,
              "#9c179e"
             ],
             [
              0.4444444444444444,
              "#bd3786"
             ],
             [
              0.5555555555555556,
              "#d8576b"
             ],
             [
              0.6666666666666666,
              "#ed7953"
             ],
             [
              0.7777777777777778,
              "#fb9f3a"
             ],
             [
              0.8888888888888888,
              "#fdca26"
             ],
             [
              1,
              "#f0f921"
             ]
            ],
            "type": "surface"
           }
          ],
          "table": [
           {
            "cells": {
             "fill": {
              "color": "#EBF0F8"
             },
             "line": {
              "color": "white"
             }
            },
            "header": {
             "fill": {
              "color": "#C8D4E3"
             },
             "line": {
              "color": "white"
             }
            },
            "type": "table"
           }
          ]
         },
         "layout": {
          "annotationdefaults": {
           "arrowcolor": "#2a3f5f",
           "arrowhead": 0,
           "arrowwidth": 1
          },
          "autotypenumbers": "strict",
          "coloraxis": {
           "colorbar": {
            "outlinewidth": 0,
            "ticks": ""
           }
          },
          "colorscale": {
           "diverging": [
            [
             0,
             "#8e0152"
            ],
            [
             0.1,
             "#c51b7d"
            ],
            [
             0.2,
             "#de77ae"
            ],
            [
             0.3,
             "#f1b6da"
            ],
            [
             0.4,
             "#fde0ef"
            ],
            [
             0.5,
             "#f7f7f7"
            ],
            [
             0.6,
             "#e6f5d0"
            ],
            [
             0.7,
             "#b8e186"
            ],
            [
             0.8,
             "#7fbc41"
            ],
            [
             0.9,
             "#4d9221"
            ],
            [
             1,
             "#276419"
            ]
           ],
           "sequential": [
            [
             0,
             "#0d0887"
            ],
            [
             0.1111111111111111,
             "#46039f"
            ],
            [
             0.2222222222222222,
             "#7201a8"
            ],
            [
             0.3333333333333333,
             "#9c179e"
            ],
            [
             0.4444444444444444,
             "#bd3786"
            ],
            [
             0.5555555555555556,
             "#d8576b"
            ],
            [
             0.6666666666666666,
             "#ed7953"
            ],
            [
             0.7777777777777778,
             "#fb9f3a"
            ],
            [
             0.8888888888888888,
             "#fdca26"
            ],
            [
             1,
             "#f0f921"
            ]
           ],
           "sequentialminus": [
            [
             0,
             "#0d0887"
            ],
            [
             0.1111111111111111,
             "#46039f"
            ],
            [
             0.2222222222222222,
             "#7201a8"
            ],
            [
             0.3333333333333333,
             "#9c179e"
            ],
            [
             0.4444444444444444,
             "#bd3786"
            ],
            [
             0.5555555555555556,
             "#d8576b"
            ],
            [
             0.6666666666666666,
             "#ed7953"
            ],
            [
             0.7777777777777778,
             "#fb9f3a"
            ],
            [
             0.8888888888888888,
             "#fdca26"
            ],
            [
             1,
             "#f0f921"
            ]
           ]
          },
          "colorway": [
           "#636efa",
           "#EF553B",
           "#00cc96",
           "#ab63fa",
           "#FFA15A",
           "#19d3f3",
           "#FF6692",
           "#B6E880",
           "#FF97FF",
           "#FECB52"
          ],
          "font": {
           "color": "#2a3f5f"
          },
          "geo": {
           "bgcolor": "white",
           "lakecolor": "white",
           "landcolor": "#E5ECF6",
           "showlakes": true,
           "showland": true,
           "subunitcolor": "white"
          },
          "hoverlabel": {
           "align": "left"
          },
          "hovermode": "closest",
          "mapbox": {
           "style": "light"
          },
          "paper_bgcolor": "white",
          "plot_bgcolor": "#E5ECF6",
          "polar": {
           "angularaxis": {
            "gridcolor": "white",
            "linecolor": "white",
            "ticks": ""
           },
           "bgcolor": "#E5ECF6",
           "radialaxis": {
            "gridcolor": "white",
            "linecolor": "white",
            "ticks": ""
           }
          },
          "scene": {
           "xaxis": {
            "backgroundcolor": "#E5ECF6",
            "gridcolor": "white",
            "gridwidth": 2,
            "linecolor": "white",
            "showbackground": true,
            "ticks": "",
            "zerolinecolor": "white"
           },
           "yaxis": {
            "backgroundcolor": "#E5ECF6",
            "gridcolor": "white",
            "gridwidth": 2,
            "linecolor": "white",
            "showbackground": true,
            "ticks": "",
            "zerolinecolor": "white"
           },
           "zaxis": {
            "backgroundcolor": "#E5ECF6",
            "gridcolor": "white",
            "gridwidth": 2,
            "linecolor": "white",
            "showbackground": true,
            "ticks": "",
            "zerolinecolor": "white"
           }
          },
          "shapedefaults": {
           "line": {
            "color": "#2a3f5f"
           }
          },
          "ternary": {
           "aaxis": {
            "gridcolor": "white",
            "linecolor": "white",
            "ticks": ""
           },
           "baxis": {
            "gridcolor": "white",
            "linecolor": "white",
            "ticks": ""
           },
           "bgcolor": "#E5ECF6",
           "caxis": {
            "gridcolor": "white",
            "linecolor": "white",
            "ticks": ""
           }
          },
          "title": {
           "x": 0.05
          },
          "xaxis": {
           "automargin": true,
           "gridcolor": "white",
           "linecolor": "white",
           "ticks": "",
           "title": {
            "standoff": 15
           },
           "zerolinecolor": "white",
           "zerolinewidth": 2
          },
          "yaxis": {
           "automargin": true,
           "gridcolor": "white",
           "linecolor": "white",
           "ticks": "",
           "title": {
            "standoff": 15
           },
           "zerolinecolor": "white",
           "zerolinewidth": 2
          }
         }
        },
        "width": 400,
        "xaxis": {
         "anchor": "y",
         "autorange": true,
         "domain": [
          0,
          1
         ],
         "range": [
          4.277777777777778,
          18.72222222222222
         ],
         "title": {
          "text": "x"
         },
         "type": "linear"
        },
        "yaxis": {
         "anchor": "x",
         "autorange": true,
         "domain": [
          0,
          1
         ],
         "range": [
          -0.5,
          0.5
         ],
         "type": "category"
        }
       }
      },
      "image/png": "[encoded data removed]",
      "text/html": [
       "<div>                            <div id=\"68cd8762-33fd-4508-81f6-9e35cefbf0cb\" class=\"plotly-graph-div\" style=\"height:200px; width:400px;\"></div>            <script type=\"text/javascript\">                require([\"plotly\"], function(Plotly) {                    window.PLOTLYENV=window.PLOTLYENV || {};                                    if (document.getElementById(\"68cd8762-33fd-4508-81f6-9e35cefbf0cb\")) {                    Plotly.newPlot(                        \"68cd8762-33fd-4508-81f6-9e35cefbf0cb\",                        [{\"alignmentgroup\":\"True\",\"hovertemplate\":\"x=%{x}<extra></extra>\",\"legendgroup\":\"\",\"marker\":{\"color\":\"#636efa\"},\"name\":\"\",\"notched\":false,\"offsetgroup\":\"\",\"orientation\":\"h\",\"showlegend\":false,\"x\":[5,15,18,10,8,12,16,10,6],\"x0\":\" \",\"xaxis\":\"x\",\"y0\":\" \",\"yaxis\":\"y\",\"type\":\"box\"}],                        {\"template\":{\"data\":{\"bar\":[{\"error_x\":{\"color\":\"#2a3f5f\"},\"error_y\":{\"color\":\"#2a3f5f\"},\"marker\":{\"line\":{\"color\":\"#E5ECF6\",\"width\":0.5},\"pattern\":{\"fillmode\":\"overlay\",\"size\":10,\"solidity\":0.2}},\"type\":\"bar\"}],\"barpolar\":[{\"marker\":{\"line\":{\"color\":\"#E5ECF6\",\"width\":0.5},\"pattern\":{\"fillmode\":\"overlay\",\"size\":10,\"solidity\":0.2}},\"type\":\"barpolar\"}],\"carpet\":[{\"aaxis\":{\"endlinecolor\":\"#2a3f5f\",\"gridcolor\":\"white\",\"linecolor\":\"white\",\"minorgridcolor\":\"white\",\"startlinecolor\":\"#2a3f5f\"},\"baxis\":{\"endlinecolor\":\"#2a3f5f\",\"gridcolor\":\"white\",\"linecolor\":\"white\",\"minorgridcolor\":\"white\",\"startlinecolor\":\"#2a3f5f\"},\"type\":\"carpet\"}],\"choropleth\":[{\"colorbar\":{\"outlinewidth\":0,\"ticks\":\"\"},\"type\":\"choropleth\"}],\"contour\":[{\"colorbar\":{\"outlinewidth\":0,\"ticks\":\"\"},\"colorscale\":[[0.0,\"#0d0887\"],[0.1111111111111111,\"#46039f\"],[0.2222222222222222,\"#7201a8\"],[0.3333333333333333,\"#9c179e\"],[0.4444444444444444,\"#bd3786\"],[0.5555555555555556,\"#d8576b\"],[0.6666666666666666,\"#ed7953\"],[0.7777777777777778,\"#fb9f3a\"],[0.8888888888888888,\"#fdca26\"],[1.0,\"#f0f921\"]],\"type\":\"contour\"}],\"contourcarpet\":[{\"colorbar\":{\"outlinewidth\":0,\"ticks\":\"\"},\"type\":\"contourcarpet\"}],\"heatmap\":[{\"colorbar\":{\"outlinewidth\":0,\"ticks\":\"\"},\"colorscale\":[[0.0,\"#0d0887\"],[0.1111111111111111,\"#46039f\"],[0.2222222222222222,\"#7201a8\"],[0.3333333333333333,\"#9c179e\"],[0.4444444444444444,\"#bd3786\"],[0.5555555555555556,\"#d8576b\"],[0.6666666666666666,\"#ed7953\"],[0.7777777777777778,\"#fb9f3a\"],[0.8888888888888888,\"#fdca26\"],[1.0,\"#f0f921\"]],\"type\":\"heatmap\"}],\"heatmapgl\":[{\"colorbar\":{\"outlinewidth\":0,\"ticks\":\"\"},\"colorscale\":[[0.0,\"#0d0887\"],[0.1111111111111111,\"#46039f\"],[0.2222222222222222,\"#7201a8\"],[0.3333333333333333,\"#9c179e\"],[0.4444444444444444,\"#bd3786\"],[0.5555555555555556,\"#d8576b\"],[0.6666666666666666,\"#ed7953\"],[0.7777777777777778,\"#fb9f3a\"],[0.8888888888888888,\"#fdca26\"],[1.0,\"#f0f921\"]],\"type\":\"heatmapgl\"}],\"histogram\":[{\"marker\":{\"pattern\":{\"fillmode\":\"overlay\",\"size\":10,\"solidity\":0.2}},\"type\":\"histogram\"}],\"histogram2d\":[{\"colorbar\":{\"outlinewidth\":0,\"ticks\":\"\"},\"colorscale\":[[0.0,\"#0d0887\"],[0.1111111111111111,\"#46039f\"],[0.2222222222222222,\"#7201a8\"],[0.3333333333333333,\"#9c179e\"],[0.4444444444444444,\"#bd3786\"],[0.5555555555555556,\"#d8576b\"],[0.6666666666666666,\"#ed7953\"],[0.7777777777777778,\"#fb9f3a\"],[0.8888888888888888,\"#fdca26\"],[1.0,\"#f0f921\"]],\"type\":\"histogram2d\"}],\"histogram2dcontour\":[{\"colorbar\":{\"outlinewidth\":0,\"ticks\":\"\"},\"colorscale\":[[0.0,\"#0d0887\"],[0.1111111111111111,\"#46039f\"],[0.2222222222222222,\"#7201a8\"],[0.3333333333333333,\"#9c179e\"],[0.4444444444444444,\"#bd3786\"],[0.5555555555555556,\"#d8576b\"],[0.6666666666666666,\"#ed7953\"],[0.7777777777777778,\"#fb9f3a\"],[0.8888888888888888,\"#fdca26\"],[1.0,\"#f0f921\"]],\"type\":\"histogram2dcontour\"}],\"mesh3d\":[{\"colorbar\":{\"outlinewidth\":0,\"ticks\":\"\"},\"type\":\"mesh3d\"}],\"parcoords\":[{\"line\":{\"colorbar\":{\"outlinewidth\":0,\"ticks\":\"\"}},\"type\":\"parcoords\"}],\"pie\":[{\"automargin\":true,\"type\":\"pie\"}],\"scatter\":[{\"marker\":{\"colorbar\":{\"outlinewidth\":0,\"ticks\":\"\"}},\"type\":\"scatter\"}],\"scatter3d\":[{\"line\":{\"colorbar\":{\"outlinewidth\":0,\"ticks\":\"\"}},\"marker\":{\"colorbar\":{\"outlinewidth\":0,\"ticks\":\"\"}},\"type\":\"scatter3d\"}],\"scattercarpet\":[{\"marker\":{\"colorbar\":{\"outlinewidth\":0,\"ticks\":\"\"}},\"type\":\"scattercarpet\"}],\"scattergeo\":[{\"marker\":{\"colorbar\":{\"outlinewidth\":0,\"ticks\":\"\"}},\"type\":\"scattergeo\"}],\"scattergl\":[{\"marker\":{\"colorbar\":{\"outlinewidth\":0,\"ticks\":\"\"}},\"type\":\"scattergl\"}],\"scattermapbox\":[{\"marker\":{\"colorbar\":{\"outlinewidth\":0,\"ticks\":\"\"}},\"type\":\"scattermapbox\"}],\"scatterpolar\":[{\"marker\":{\"colorbar\":{\"outlinewidth\":0,\"ticks\":\"\"}},\"type\":\"scatterpolar\"}],\"scatterpolargl\":[{\"marker\":{\"colorbar\":{\"outlinewidth\":0,\"ticks\":\"\"}},\"type\":\"scatterpolargl\"}],\"scatterternary\":[{\"marker\":{\"colorbar\":{\"outlinewidth\":0,\"ticks\":\"\"}},\"type\":\"scatterternary\"}],\"surface\":[{\"colorbar\":{\"outlinewidth\":0,\"ticks\":\"\"},\"colorscale\":[[0.0,\"#0d0887\"],[0.1111111111111111,\"#46039f\"],[0.2222222222222222,\"#7201a8\"],[0.3333333333333333,\"#9c179e\"],[0.4444444444444444,\"#bd3786\"],[0.5555555555555556,\"#d8576b\"],[0.6666666666666666,\"#ed7953\"],[0.7777777777777778,\"#fb9f3a\"],[0.8888888888888888,\"#fdca26\"],[1.0,\"#f0f921\"]],\"type\":\"surface\"}],\"table\":[{\"cells\":{\"fill\":{\"color\":\"#EBF0F8\"},\"line\":{\"color\":\"white\"}},\"header\":{\"fill\":{\"color\":\"#C8D4E3\"},\"line\":{\"color\":\"white\"}},\"type\":\"table\"}]},\"layout\":{\"annotationdefaults\":{\"arrowcolor\":\"#2a3f5f\",\"arrowhead\":0,\"arrowwidth\":1},\"autotypenumbers\":\"strict\",\"coloraxis\":{\"colorbar\":{\"outlinewidth\":0,\"ticks\":\"\"}},\"colorscale\":{\"diverging\":[[0,\"#8e0152\"],[0.1,\"#c51b7d\"],[0.2,\"#de77ae\"],[0.3,\"#f1b6da\"],[0.4,\"#fde0ef\"],[0.5,\"#f7f7f7\"],[0.6,\"#e6f5d0\"],[0.7,\"#b8e186\"],[0.8,\"#7fbc41\"],[0.9,\"#4d9221\"],[1,\"#276419\"]],\"sequential\":[[0.0,\"#0d0887\"],[0.1111111111111111,\"#46039f\"],[0.2222222222222222,\"#7201a8\"],[0.3333333333333333,\"#9c179e\"],[0.4444444444444444,\"#bd3786\"],[0.5555555555555556,\"#d8576b\"],[0.6666666666666666,\"#ed7953\"],[0.7777777777777778,\"#fb9f3a\"],[0.8888888888888888,\"#fdca26\"],[1.0,\"#f0f921\"]],\"sequentialminus\":[[0.0,\"#0d0887\"],[0.1111111111111111,\"#46039f\"],[0.2222222222222222,\"#7201a8\"],[0.3333333333333333,\"#9c179e\"],[0.4444444444444444,\"#bd3786\"],[0.5555555555555556,\"#d8576b\"],[0.6666666666666666,\"#ed7953\"],[0.7777777777777778,\"#fb9f3a\"],[0.8888888888888888,\"#fdca26\"],[1.0,\"#f0f921\"]]},\"colorway\":[\"#636efa\",\"#EF553B\",\"#00cc96\",\"#ab63fa\",\"#FFA15A\",\"#19d3f3\",\"#FF6692\",\"#B6E880\",\"#FF97FF\",\"#FECB52\"],\"font\":{\"color\":\"#2a3f5f\"},\"geo\":{\"bgcolor\":\"white\",\"lakecolor\":\"white\",\"landcolor\":\"#E5ECF6\",\"showlakes\":true,\"showland\":true,\"subunitcolor\":\"white\"},\"hoverlabel\":{\"align\":\"left\"},\"hovermode\":\"closest\",\"mapbox\":{\"style\":\"light\"},\"paper_bgcolor\":\"white\",\"plot_bgcolor\":\"#E5ECF6\",\"polar\":{\"angularaxis\":{\"gridcolor\":\"white\",\"linecolor\":\"white\",\"ticks\":\"\"},\"bgcolor\":\"#E5ECF6\",\"radialaxis\":{\"gridcolor\":\"white\",\"linecolor\":\"white\",\"ticks\":\"\"}},\"scene\":{\"xaxis\":{\"backgroundcolor\":\"#E5ECF6\",\"gridcolor\":\"white\",\"gridwidth\":2,\"linecolor\":\"white\",\"showbackground\":true,\"ticks\":\"\",\"zerolinecolor\":\"white\"},\"yaxis\":{\"backgroundcolor\":\"#E5ECF6\",\"gridcolor\":\"white\",\"gridwidth\":2,\"linecolor\":\"white\",\"showbackground\":true,\"ticks\":\"\",\"zerolinecolor\":\"white\"},\"zaxis\":{\"backgroundcolor\":\"#E5ECF6\",\"gridcolor\":\"white\",\"gridwidth\":2,\"linecolor\":\"white\",\"showbackground\":true,\"ticks\":\"\",\"zerolinecolor\":\"white\"}},\"shapedefaults\":{\"line\":{\"color\":\"#2a3f5f\"}},\"ternary\":{\"aaxis\":{\"gridcolor\":\"white\",\"linecolor\":\"white\",\"ticks\":\"\"},\"baxis\":{\"gridcolor\":\"white\",\"linecolor\":\"white\",\"ticks\":\"\"},\"bgcolor\":\"#E5ECF6\",\"caxis\":{\"gridcolor\":\"white\",\"linecolor\":\"white\",\"ticks\":\"\"}},\"title\":{\"x\":0.05},\"xaxis\":{\"automargin\":true,\"gridcolor\":\"white\",\"linecolor\":\"white\",\"ticks\":\"\",\"title\":{\"standoff\":15},\"zerolinecolor\":\"white\",\"zerolinewidth\":2},\"yaxis\":{\"automargin\":true,\"gridcolor\":\"white\",\"linecolor\":\"white\",\"ticks\":\"\",\"title\":{\"standoff\":15},\"zerolinecolor\":\"white\",\"zerolinewidth\":2}}},\"xaxis\":{\"anchor\":\"y\",\"domain\":[0.0,1.0],\"title\":{\"text\":\"x\"}},\"yaxis\":{\"anchor\":\"x\",\"domain\":[0.0,1.0]},\"legend\":{\"tracegroupgap\":0},\"margin\":{\"t\":60},\"boxmode\":\"group\",\"height\":200,\"width\":400},                        {\"responsive\": true}                    ).then(function(){\n",
       "                            \n",
       "var gd = document.getElementById('68cd8762-33fd-4508-81f6-9e35cefbf0cb');\n",
       "var x = new MutationObserver(function (mutations, observer) {{\n",
       "        var display = window.getComputedStyle(gd).display;\n",
       "        if (!display || display === 'none') {{\n",
       "            console.log([gd, 'removed!']);\n",
       "            Plotly.purge(gd);\n",
       "            observer.disconnect();\n",
       "        }}\n",
       "}});\n",
       "\n",
       "// Listen for the removal of the full notebook cells\n",
       "var notebookContainer = gd.closest('#notebook-container');\n",
       "if (notebookContainer) {{\n",
       "    x.observe(notebookContainer, {childList: true});\n",
       "}}\n",
       "\n",
       "// Listen for the clearing of the current output cell\n",
       "var outputEl = gd.closest('.output');\n",
       "if (outputEl) {{\n",
       "    x.observe(outputEl, {childList: true});\n",
       "}}\n",
       "\n",
       "                        })                };                });            </script>        </div>"
      ]
     },
     "metadata": {},
     "output_type": "display_data"
    }
   ],
   "source": [
    "data = np.array([5,15,18,10,8,12,16,10,6])\n",
    "print(\"Min: {:>.2f}\\tQ1：{:.2f}\\tQ2: {:>.2f}\\tQ3: {:>.2f}\\tMax: {:>.2f}\"\n",
    "      .format(np.mean(data),np.quantile(data,0.25),np.median(data),np.quantile(data,0.75),np.max(data)))\n",
    "\n",
    "fig,ax=plt.subplots(figsize=(4,2))\n",
    "ax.boxplot(data,labels=['data'],vert=False)\n",
    "plt.show()\n",
    "\n",
    "fig,ax=plt.subplots(figsize=(4,2))\n",
    "sns.boxplot(data=data,orient='h',ax=ax)\n",
    "plt.show()\n",
    "\n",
    "fig = px.box(x=data)\n",
    "fig.update_layout(height=200,width=400)\n",
    "fig.show()"
   ]
  },
  {
   "cell_type": "markdown",
   "id": "df80b553-ee8d-4a7c-8572-7a83a8d9c8bb",
   "metadata": {},
   "source": [
    "### 50"
   ]
  },
  {
   "cell_type": "code",
   "execution_count": 46,
   "id": "a17eb256-532a-4e28-bc86-46718ceaa736",
   "metadata": {},
   "outputs": [
    {
     "name": "stdout",
     "output_type": "stream",
     "text": [
      "Lauren Wald在男子中的排名: 11\n",
      "男子中位数：109.64 \n",
      "女子中位数：131.67 \n",
      "\n",
      "男子五数概括法：\n",
      "Min: 106.52\tQ1：89.50\tQ2: 109.64\tQ3: 128.30\tMax: 148.70\n",
      "\n",
      "女子五数概括法：\n",
      "Min: 134.28\tQ1：122.28\tQ2: 131.67\tQ3: 143.09\tMax: 189.28\n",
      "男子没有异常值\n",
      "女子没有异常值\n"
     ]
    }
   ],
   "source": [
    "data = pd.read_csv(\"../商务与经济统计/数据文件/第3章/Runners.csv\")\n",
    "tmp = data[\"Men\"].values\n",
    "tmp = tmp[~np.isnan(tmp)]\n",
    "print(f\"Lauren Wald在男子中的排名: %d\"%(len(tmp[tmp<data[\"Women\"].iloc[0]])+1))\n",
    "print(\"男子中位数：{:>.2f} \".format(np.nanmedian(data['Men'])))\n",
    "print(\"女子中位数：{:>.2f} \".format(np.nanmedian(data['Women'])))\n",
    "print(\"\\n男子五数概括法：\\nMin: {:>.2f}\\tQ1：{:.2f}\\tQ2: {:>.2f}\\tQ3: {:>.2f}\\tMax: {:>.2f}\"\n",
    "      .format(np.nanmean(data['Men']),np.nanquantile(data['Men'],0.25),np.nanmedian(data['Men']),\n",
    "              np.nanquantile(data['Men'],0.75),np.nanmax(data['Men'])))\n",
    "print(\"\\n女子五数概括法：\\nMin: {:>.2f}\\tQ1：{:.2f}\\tQ2: {:>.2f}\\tQ3: {:>.2f}\\tMax: {:>.2f}\"\n",
    "      .format(np.nanmean(data['Women']),np.nanquantile(data['Women'],0.25),np.nanmedian(data['Women']),\n",
    "              np.nanquantile(data['Women'],0.75),np.nanmax(data['Women'])))\n",
    "\n",
    "men = data['Men'].dropna()\n",
    "men_mean = np.mean(men)\n",
    "men_std = np.std(men)\n",
    "outlier_men = (np.abs((men-men_mean)/men_std)<=3).all()\n",
    "if outlier_men:\n",
    "    print(\"男子没有异常值\")\n",
    "else:\n",
    "    print(\"男子存在异常值\")\n",
    "\n",
    "men = data['Women'].dropna()\n",
    "men_mean = np.mean(men)\n",
    "men_std = np.std(men)\n",
    "outlier_men = (np.abs((men-men_mean)/men_std)<=3).all()\n",
    "if outlier_men:\n",
    "    print(\"女子没有异常值\")\n",
    "else:\n",
    "    print(\"女子存在异常值\")"
   ]
  },
  {
   "cell_type": "code",
   "execution_count": null,
   "id": "dd321f4d-a6cf-4c4d-8b91-8045619ee190",
   "metadata": {},
   "outputs": [],
   "source": []
  }
 ],
 "metadata": {
  "kernelspec": {
   "display_name": "Python 3",
   "language": "python",
   "name": "python3"
  },
  "language_info": {
   "codemirror_mode": {
    "name": "ipython",
    "version": 3
   },
   "file_extension": ".py",
   "mimetype": "text/x-python",
   "name": "python",
   "nbconvert_exporter": "python",
   "pygments_lexer": "ipython3",
   "version": "3.8.8"
  }
 },
 "nbformat": 4,
 "nbformat_minor": 5
}
