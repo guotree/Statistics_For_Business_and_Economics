{
 "cells": [
  {
   "cell_type": "code",
   "execution_count": 54,
   "id": "0e21ce3b-60d3-4931-9335-0d8a310f1dc7",
   "metadata": {},
   "outputs": [],
   "source": [
    "import numpy as np\n",
    "import pandas as pd\n",
    "import scipy.stats as stats\n",
    "import matplotlib.pyplot as plt\n",
    "import seaborn as sns\n",
    "import plotly.express as px"
   ]
  },
  {
   "cell_type": "markdown",
   "id": "ad789d82-54f5-4ac7-95bd-6f7790e2ee2d",
   "metadata": {},
   "source": [
    "## 位置的度量"
   ]
  },
  {
   "cell_type": "markdown",
   "id": "52d9859e-0306-4dd0-848f-9df70cb31a7a",
   "metadata": {},
   "source": [
    "### 2"
   ]
  },
  {
   "cell_type": "code",
   "execution_count": 6,
   "id": "67ca4dc0-12b3-4ac2-8c0a-cb46f8bdc6a3",
   "metadata": {},
   "outputs": [
    {
     "data": {
      "text/plain": [
       "(16.8, 17.0)"
      ]
     },
     "execution_count": 6,
     "metadata": {},
     "output_type": "execute_result"
    }
   ],
   "source": [
    "data = np.array([10,20,21,17,16])\n",
    "np.mean(data), np.median(data)"
   ]
  },
  {
   "cell_type": "markdown",
   "id": "17e19cb2-23e0-4acf-8a6c-31d33ab09566",
   "metadata": {},
   "source": [
    "### 4"
   ]
  },
  {
   "cell_type": "code",
   "execution_count": 10,
   "id": "58e4c80e-43c9-46e1-b3bb-71a48da3085a",
   "metadata": {},
   "outputs": [
    {
     "data": {
      "text/plain": [
       "0.9775197468433319"
      ]
     },
     "execution_count": 10,
     "metadata": {},
     "output_type": "execute_result"
    }
   ],
   "source": [
    "data = np.array([-0.06,-0.08,-0.04,0.02,0.054])+1\n",
    "stats.gmean(data)"
   ]
  },
  {
   "cell_type": "markdown",
   "id": "ec4abe7f-02a0-4e35-89dd-5d0ba9fe72ca",
   "metadata": {},
   "source": [
    "### 6"
   ]
  },
  {
   "cell_type": "code",
   "execution_count": 11,
   "id": "def8eead-b960-44c2-b4a0-ff39d88f9379",
   "metadata": {},
   "outputs": [
    {
     "data": {
      "text/plain": [
       "ModeResult(mode=array([53]), count=array([3]))"
      ]
     },
     "execution_count": 11,
     "metadata": {},
     "output_type": "execute_result"
    }
   ],
   "source": [
    "data = np.array([53,55,70,58,64,57,53,69,57,68,53])\n",
    "stats.mode(data)"
   ]
  },
  {
   "cell_type": "markdown",
   "id": "201ffdca-102d-4f45-b439-ba5b2d1c20b0",
   "metadata": {},
   "source": [
    "### 8"
   ]
  },
  {
   "cell_type": "code",
   "execution_count": 29,
   "id": "2461f5c6-c29b-4328-83e2-5ef5cef30a6e",
   "metadata": {},
   "outputs": [
    {
     "name": "stdout",
     "output_type": "stream",
     "text": [
      "中位数： 80.0\n",
      "平均数： 84.0\n"
     ]
    },
    {
     "data": {
      "image/png": "[encoded data removed]",
      "text/plain": [
       "<Figure size 432x288 with 1 Axes>"
      ]
     },
     "metadata": {
      "needs_background": "light"
     },
     "output_type": "display_data"
    },
    {
     "name": "stdout",
     "output_type": "stream",
     "text": [
      "第一四分位数： 70.0\n",
      "第三四分位数： 99.5\n"
     ]
    }
   ],
   "source": [
    "data = np.array([108,83,106,73,53,85,80,63,67,75,124,55,93,118,77])\n",
    "print(\"中位数：\",np.median(data))\n",
    "print(\"平均数：\",np.mean(data))\n",
    "\n",
    "fig, ax = plt.subplots(figsize=(6,4))\n",
    "ax.hist(data,bins=10,color=\"grey\")\n",
    "ax.set_title(\"Histogram\")\n",
    "plt.show()\n",
    "\n",
    "print(\"第一四分位数：\",np.quantile(data,0.25))\n",
    "print(\"第三四分位数：\",np.quantile(data,0.75))"
   ]
  },
  {
   "cell_type": "markdown",
   "id": "f18dcdad-8c71-4ce7-b6e7-c0ee0e1a0236",
   "metadata": {},
   "source": [
    "### 10"
   ]
  },
  {
   "cell_type": "code",
   "execution_count": 37,
   "id": "004ce18f-5621-41be-888f-2f5e21bf0424",
   "metadata": {},
   "outputs": [
    {
     "name": "stdout",
     "output_type": "stream",
     "text": [
      "平均数： 65.9\n",
      "中位数： 66.5\n",
      "众数： 61\n",
      "第一四分位数： 61.0\n",
      "第三四分位数： 71.0\n",
      "第90百分位数： 78.30000000000001\n"
     ]
    }
   ],
   "source": [
    "data = np.array([42,66,67,71,78,62,61,76,71,67,61,64,61,54,83,63,68,69,81,53])\n",
    "print(\"平均数：\",np.mean(data))\n",
    "print(\"中位数：\",np.median(data))\n",
    "print(\"众数：\",stats.mode(data).mode[0])\n",
    "print(\"第一四分位数：\",np.quantile(data,0.25))\n",
    "print(\"第三四分位数：\",np.quantile(data,0.75))\n",
    "print(\"第90百分位数：\",np.quantile(data,0.9))"
   ]
  },
  {
   "cell_type": "markdown",
   "id": "b9a2e693-bd18-4e9f-886c-b0699bb94c1a",
   "metadata": {},
   "source": [
    "### 12"
   ]
  },
  {
   "cell_type": "code",
   "execution_count": 108,
   "id": "b5041188-4e66-4c18-86fb-4bfe55959c59",
   "metadata": {},
   "outputs": [
    {
     "name": "stdout",
     "output_type": "stream",
     "text": [
      "最大数：16.50       \t最小数：13.30       \n",
      "平均数：15.04       \t中位数：15.00       \t众数：13.60       \n",
      "第一四分位数：14.10       \t第三四分位数：16.00       \n"
     ]
    },
    {
     "data": {
      "image/png": "[encoded data removed]",
      "text/plain": [
       "<Figure size 432x288 with 1 Axes>"
      ]
     },
     "metadata": {
      "needs_background": "light"
     },
     "output_type": "display_data"
    },
    {
     "name": "stdout",
     "output_type": "stream",
     "text": [
      "            Viewers (millions)\n",
      "Air Date                      \n",
      "2011-12-31               161.0\n",
      "2012-12-31               154.9\n"
     ]
    }
   ],
   "source": [
    "data = pd.read_csv('../商务与经济统计/数据文件/第3章/BigBangTheory.csv')\n",
    "data['Air Date'] = pd.to_datetime(data['Air Date'])\n",
    "data = data.set_index('Air Date')\n",
    "\n",
    "view = data[\"Viewers (millions)\"]\n",
    "print(\"最大数：{:<12.2f}\\t最小数：{:<12.2f}\".format(np.max(view),np.min(view)))\n",
    "print(\"平均数：{:<12.2f}\\t中位数：{:<12.2f}\\t众数：{:<12.2f}\".format(np.mean(view),np.median(view),stats.mode(view).mode[0]))\n",
    "print(\"第一四分位数：{:<12.2f}\\t第三四分位数：{:<12.2f}\".format(np.quantile(view,0.25),np.quantile(view,0.75)))\n",
    "fig,ax = plt.subplots(figsize=(6,4))\n",
    "ax.plot(data.index,data[\"Viewers (millions)\"],color='k')\n",
    "ax.set_title(\"Trend of viewers\")\n",
    "plt.show()\n",
    "print(data.resample('Y').sum())"
   ]
  },
  {
   "cell_type": "markdown",
   "id": "55462d15-80ed-4598-b13e-0f6997025d76",
   "metadata": {},
   "source": [
    "### 14"
   ]
  },
  {
   "cell_type": "code",
   "execution_count": 125,
   "id": "ea4a5421-2e66-42c2-8925-7a3755d3c85f",
   "metadata": {},
   "outputs": [
    {
     "name": "stdout",
     "output_type": "stream",
     "text": [
      "2011年3月:\n",
      "  第一四分位数：6.875\n",
      "  中位数：8.0\n",
      "  第三四分位数：9.4\n",
      "\n",
      "2012年3月:\n",
      "  第一四分位数：6.25\n",
      "  中位数：7.35\n",
      "  第三四分位数：8.575\n"
     ]
    },
    {
     "data": {
      "image/png": "[encoded data removed]",
      "text/plain": [
       "<Figure size 432x288 with 1 Axes>"
      ]
     },
     "metadata": {
      "needs_background": "light"
     },
     "output_type": "display_data"
    },
    {
     "name": "stdout",
     "output_type": "stream",
     "text": [
      "失业率在下降\n"
     ]
    }
   ],
   "source": [
    "data = pd.read_csv('../商务与经济统计/数据文件/第3章/StateUnemp.csv')\n",
    "q2011_1 = np.quantile(data[\"Uneployment Rate March 2011\"],0.25)\n",
    "m2011 = np.median(data[\"Uneployment Rate March 2011\"])\n",
    "q2011_3 = np.quantile(data[\"Uneployment Rate March 2011\"],0.75)\n",
    "q2012_1 = np.quantile(data[\"Uneployment Rate March 2012\"],0.25)\n",
    "m2012 = np.median(data[\"Uneployment Rate March 2012\"])\n",
    "q2012_3 = np.quantile(data[\"Uneployment Rate March 2012\"],0.75)\n",
    "\n",
    "print(\"2011年3月:\\n  第一四分位数：{}\\n  中位数：{}\\n  第三四分位数：{}\".format(q2011_1,m2011,q2011_3))\n",
    "print(\"\\n2012年3月:\\n  第一四分位数：{}\\n  中位数：{}\\n  第三四分位数：{}\".format(q2012_1,m2012,q2012_3))\n",
    "fig, ax = plt.subplots(figsize=(6,4))\n",
    "ax.boxplot([data[\"Uneployment Rate March 2011\"],data[\"Uneployment Rate March 2012\"]],labels=[\"Uneployment Rate March 2011\",\"Uneployment Rate March 2012\"])\n",
    "plt.show()\n",
    "print(\"失业率在下降\")"
   ]
  },
  {
   "cell_type": "markdown",
   "id": "6fa1d727-6e86-4ad4-b05c-68f78d1e2fd0",
   "metadata": {},
   "source": [
    "### 16"
   ]
  },
  {
   "cell_type": "code",
   "execution_count": 128,
   "id": "3269ca09-748b-4088-8dc4-6a1e84a90129",
   "metadata": {},
   "outputs": [
    {
     "name": "stdout",
     "output_type": "stream",
     "text": [
      "平均等级分：2.5\n"
     ]
    }
   ],
   "source": [
    "avg = 4*9/60+3*15/60+2*33/60+1*3/60\n",
    "print(\"平均等级分：{}\".format(avg))"
   ]
  },
  {
   "cell_type": "markdown",
   "id": "78d0dc59-c273-4750-a539-daa68db54ec5",
   "metadata": {},
   "source": [
    "### 18"
   ]
  },
  {
   "cell_type": "code",
   "execution_count": null,
   "id": "4472a6b7-7765-4cd7-bc7f-213018aca85e",
   "metadata": {},
   "outputs": [],
   "source": []
  },
  {
   "cell_type": "markdown",
   "id": "bcc38f4b-a7cb-4a2d-8020-bed06755a76f",
   "metadata": {},
   "source": [
    "### 20"
   ]
  },
  {
   "cell_type": "code",
   "execution_count": 130,
   "id": "176572d1-3773-480e-962a-5d2c6044f44b",
   "metadata": {},
   "outputs": [
    {
     "data": {
      "text/html": [
       "<div>\n",
       "<style scoped>\n",
       "    .dataframe tbody tr th:only-of-type {\n",
       "        vertical-align: middle;\n",
       "    }\n",
       "\n",
       "    .dataframe tbody tr th {\n",
       "        vertical-align: top;\n",
       "    }\n",
       "\n",
       "    .dataframe thead th {\n",
       "        text-align: right;\n",
       "    }\n",
       "</style>\n",
       "<table border=\"1\" class=\"dataframe\">\n",
       "  <thead>\n",
       "    <tr style=\"text-align: right;\">\n",
       "      <th></th>\n",
       "      <th>Price per Gallon ($)</th>\n",
       "    </tr>\n",
       "  </thead>\n",
       "  <tbody>\n",
       "    <tr>\n",
       "      <th>0</th>\n",
       "      <td>3.59</td>\n",
       "    </tr>\n",
       "    <tr>\n",
       "      <th>1</th>\n",
       "      <td>3.59</td>\n",
       "    </tr>\n",
       "    <tr>\n",
       "      <th>2</th>\n",
       "      <td>4.79</td>\n",
       "    </tr>\n",
       "    <tr>\n",
       "      <th>3</th>\n",
       "      <td>3.56</td>\n",
       "    </tr>\n",
       "    <tr>\n",
       "      <th>4</th>\n",
       "      <td>3.55</td>\n",
       "    </tr>\n",
       "    <tr>\n",
       "      <th>5</th>\n",
       "      <td>3.71</td>\n",
       "    </tr>\n",
       "    <tr>\n",
       "      <th>6</th>\n",
       "      <td>3.65</td>\n",
       "    </tr>\n",
       "    <tr>\n",
       "      <th>7</th>\n",
       "      <td>3.60</td>\n",
       "    </tr>\n",
       "    <tr>\n",
       "      <th>8</th>\n",
       "      <td>3.75</td>\n",
       "    </tr>\n",
       "    <tr>\n",
       "      <th>9</th>\n",
       "      <td>3.56</td>\n",
       "    </tr>\n",
       "    <tr>\n",
       "      <th>10</th>\n",
       "      <td>3.57</td>\n",
       "    </tr>\n",
       "    <tr>\n",
       "      <th>11</th>\n",
       "      <td>3.59</td>\n",
       "    </tr>\n",
       "    <tr>\n",
       "      <th>12</th>\n",
       "      <td>3.55</td>\n",
       "    </tr>\n",
       "    <tr>\n",
       "      <th>13</th>\n",
       "      <td>3.99</td>\n",
       "    </tr>\n",
       "    <tr>\n",
       "      <th>14</th>\n",
       "      <td>4.15</td>\n",
       "    </tr>\n",
       "    <tr>\n",
       "      <th>15</th>\n",
       "      <td>3.66</td>\n",
       "    </tr>\n",
       "    <tr>\n",
       "      <th>16</th>\n",
       "      <td>3.63</td>\n",
       "    </tr>\n",
       "    <tr>\n",
       "      <th>17</th>\n",
       "      <td>3.73</td>\n",
       "    </tr>\n",
       "    <tr>\n",
       "      <th>18</th>\n",
       "      <td>3.61</td>\n",
       "    </tr>\n",
       "    <tr>\n",
       "      <th>19</th>\n",
       "      <td>3.57</td>\n",
       "    </tr>\n",
       "  </tbody>\n",
       "</table>\n",
       "</div>"
      ],
      "text/plain": [
       "    Price per Gallon ($)\n",
       "0                   3.59\n",
       "1                   3.59\n",
       "2                   4.79\n",
       "3                   3.56\n",
       "4                   3.55\n",
       "5                   3.71\n",
       "6                   3.65\n",
       "7                   3.60\n",
       "8                   3.75\n",
       "9                   3.56\n",
       "10                  3.57\n",
       "11                  3.59\n",
       "12                  3.55\n",
       "13                  3.99\n",
       "14                  4.15\n",
       "15                  3.66\n",
       "16                  3.63\n",
       "17                  3.73\n",
       "18                  3.61\n",
       "19                  3.57"
      ]
     },
     "execution_count": 130,
     "metadata": {},
     "output_type": "execute_result"
    }
   ],
   "source": [
    "series1 = pd.Series"
   ]
  },
  {
   "cell_type": "code",
   "execution_count": null,
   "id": "a7186ada-cc4f-4536-8ada-9f6f22a404dc",
   "metadata": {},
   "outputs": [],
   "source": []
  }
 ],
 "metadata": {
  "kernelspec": {
   "display_name": "Python 3",
   "language": "python",
   "name": "python3"
  },
  "language_info": {
   "codemirror_mode": {
    "name": "ipython",
    "version": 3
   },
   "file_extension": ".py",
   "mimetype": "text/x-python",
   "name": "python",
   "nbconvert_exporter": "python",
   "pygments_lexer": "ipython3",
   "version": "3.8.8"
  }
 },
 "nbformat": 4,
 "nbformat_minor": 5
}
